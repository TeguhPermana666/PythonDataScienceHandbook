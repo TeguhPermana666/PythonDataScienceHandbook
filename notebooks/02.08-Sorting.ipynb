{
 "cells": [
  {
   "cell_type": "markdown",
   "metadata": {},
   "source": [
    "# Sorting Arrays"
   ]
  },
  {
   "cell_type": "markdown",
   "metadata": {},
   "source": [
    "Up to this point we have been concerned mainly with tools to access and operate on array data with NumPy.\n",
    "This chapter covers algorithms related to sorting values in NumPy arrays.\n",
    "These algorithms are a favorite topic in introductory computer science courses: if you've ever taken one, you probably have had dreams (or, depending on your temperament, nightmares) about *insertion sorts*, *selection sorts*, *merge sorts*, *quick sorts*, *bubble sorts*, and many, many more.\n",
    "All are means of accomplishing a similar task: sorting the values in a list or array.\n",
    "\n",
    "Python has a couple of built-in functions and methods for sorting lists and other iterable objects. The `sorted` function accepts a list and returns a sorted version of it:"
   ]
  },
  {
   "cell_type": "code",
   "execution_count": 1,
   "metadata": {},
   "outputs": [
    {
     "data": {
      "text/plain": [
       "[1, 1, 2, 3, 4, 5, 6, 9]"
      ]
     },
     "execution_count": 1,
     "metadata": {},
     "output_type": "execute_result"
    }
   ],
   "source": [
    "L = [3, 1, 4, 1, 5, 9, 2, 6]\n",
    "sorted(L)  # returns a sorted copy"
   ]
  },
  {
   "attachments": {},
   "cell_type": "markdown",
   "metadata": {},
   "source": [
    "By contrast, the `sort` method of lists will sort the list in-place:"
   ]
  },
  {
   "cell_type": "code",
   "execution_count": 2,
   "metadata": {},
   "outputs": [
    {
     "name": "stdout",
     "output_type": "stream",
     "text": [
      "[1, 1, 2, 3, 4, 5, 6, 9]\n"
     ]
    }
   ],
   "source": [
    "L.sort()  # acts in-place and returns None\n",
    "print(L)"
   ]
  },
  {
   "cell_type": "markdown",
   "metadata": {},
   "source": [
    "Python's sorting methods are quite flexible, and can handle any iterable object. For example, here we sort a string:"
   ]
  },
  {
   "cell_type": "code",
   "execution_count": 3,
   "metadata": {},
   "outputs": [
    {
     "data": {
      "text/plain": [
       "['h', 'n', 'o', 'p', 't', 'y']"
      ]
     },
     "execution_count": 3,
     "metadata": {},
     "output_type": "execute_result"
    }
   ],
   "source": [
    "sorted('python')"
   ]
  },
  {
   "cell_type": "markdown",
   "metadata": {},
   "source": [
    "These built-in sorting methods are convenient, but as previously discussed, the dynamism of Python values means they are less performant than routines designed specifically for uniform arrays of numbers.\n",
    "This is where NumPy's sorting routines come in."
   ]
  },
  {
   "cell_type": "markdown",
   "metadata": {},
   "source": [
    "## Fast Sorting in NumPy: np.sort and np.argsort\n",
    "\n",
    "The `np.sort` function is analogous to Python's built-in `sorted` function, and will efficiently return a sorted copy of an array:"
   ]
  },
  {
   "cell_type": "code",
   "execution_count": 4,
   "metadata": {
    "collapsed": false,
    "jupyter": {
     "outputs_hidden": false
    }
   },
   "outputs": [
    {
     "data": {
      "text/plain": [
       "array([1, 2, 3, 4, 5])"
      ]
     },
     "execution_count": 4,
     "metadata": {},
     "output_type": "execute_result"
    }
   ],
   "source": [
    "import numpy as np\n",
    "\n",
    "x = np.array([2, 1, 4, 3, 5])\n",
    "np.sort(x)"
   ]
  },
  {
   "cell_type": "markdown",
   "metadata": {},
   "source": [
    "Similarly to the `sort` method of Python lists, you can also sort an array in-place using the array `sort` method:"
   ]
  },
  {
   "cell_type": "code",
   "execution_count": 5,
   "metadata": {
    "collapsed": false,
    "jupyter": {
     "outputs_hidden": false
    }
   },
   "outputs": [
    {
     "name": "stdout",
     "output_type": "stream",
     "text": [
      "[1 2 3 4 5]\n"
     ]
    }
   ],
   "source": [
    "x.sort()\n",
    "print(x)"
   ]
  },
  {
   "cell_type": "markdown",
   "metadata": {},
   "source": [
    "A related function is `argsort`, which instead returns the *indices* of the sorted elements:"
   ]
  },
  {
   "cell_type": "code",
   "execution_count": 6,
   "metadata": {
    "collapsed": false,
    "jupyter": {
     "outputs_hidden": false
    }
   },
   "outputs": [
    {
     "name": "stdout",
     "output_type": "stream",
     "text": [
      "[1 0 3 2 4]\n"
     ]
    }
   ],
   "source": [
    "x = np.array([2, 1, 4, 3, 5])\n",
    "i = np.argsort(x)\n",
    "print(i)"
   ]
  },
  {
   "cell_type": "markdown",
   "metadata": {},
   "source": [
    "The first element of this result gives the index of the smallest element, the second value gives the index of the second smallest, and so on.\n",
    "These indices can then be used (via fancy indexing) to construct the sorted array if desired:"
   ]
  },
  {
   "cell_type": "code",
   "execution_count": 7,
   "metadata": {
    "collapsed": false,
    "jupyter": {
     "outputs_hidden": false
    }
   },
   "outputs": [
    {
     "data": {
      "text/plain": [
       "array([1, 2, 3, 4, 5])"
      ]
     },
     "execution_count": 7,
     "metadata": {},
     "output_type": "execute_result"
    }
   ],
   "source": [
    "x[i]"
   ]
  },
  {
   "cell_type": "markdown",
   "metadata": {},
   "source": [
    "You'll see an application of `argsort` later in this chapter.\n",
    "\n",
    "### Sorting Along Rows or Columns"
   ]
  },
  {
   "cell_type": "markdown",
   "metadata": {},
   "source": [
    "A useful feature of NumPy's sorting algorithms is the ability to sort along specific rows or columns of a multidimensional array using the `axis` argument. For example:"
   ]
  },
  {
   "cell_type": "code",
   "execution_count": 8,
   "metadata": {
    "collapsed": false,
    "jupyter": {
     "outputs_hidden": false
    }
   },
   "outputs": [
    {
     "name": "stdout",
     "output_type": "stream",
     "text": [
      "[[0 7 6 4 4 8]\n",
      " [0 6 2 0 5 9]\n",
      " [7 7 7 7 5 1]\n",
      " [8 4 5 3 1 9]]\n"
     ]
    }
   ],
   "source": [
    "rng = np.random.default_rng(seed=42)\n",
    "X = rng.integers(0, 10, (4, 6))\n",
    "print(X)"
   ]
  },
  {
   "cell_type": "code",
   "execution_count": 9,
   "metadata": {
    "collapsed": false,
    "jupyter": {
     "outputs_hidden": false
    }
   },
   "outputs": [
    {
     "data": {
      "text/plain": [
       "array([[0, 4, 2, 0, 1, 1],\n",
       "       [0, 6, 5, 3, 4, 8],\n",
       "       [7, 7, 6, 4, 5, 9],\n",
       "       [8, 7, 7, 7, 5, 9]])"
      ]
     },
     "execution_count": 9,
     "metadata": {},
     "output_type": "execute_result"
    }
   ],
   "source": [
    "# sort each column of X\n",
    "np.sort(X, axis=0)"
   ]
  },
  {
   "cell_type": "code",
   "execution_count": 10,
   "metadata": {
    "collapsed": false,
    "jupyter": {
     "outputs_hidden": false
    }
   },
   "outputs": [
    {
     "data": {
      "text/plain": [
       "array([[0, 4, 4, 6, 7, 8],\n",
       "       [0, 0, 2, 5, 6, 9],\n",
       "       [1, 5, 7, 7, 7, 7],\n",
       "       [1, 3, 4, 5, 8, 9]])"
      ]
     },
     "execution_count": 10,
     "metadata": {},
     "output_type": "execute_result"
    }
   ],
   "source": [
    "# sort each row of X\n",
    "np.sort(X, axis=1)"
   ]
  },
  {
   "cell_type": "markdown",
   "metadata": {},
   "source": [
    "Keep in mind that this treats each row or column as an independent array, and any relationships between the row or column values will be lost!"
   ]
  },
  {
   "cell_type": "markdown",
   "metadata": {},
   "source": [
    "## Partial Sorts: Partitioning\n",
    "\n",
    "Sometimes we're not interested in sorting the entire array, but simply want to find the *k* smallest values in the array. NumPy enables this with the `np.partition` function. `np.partition` takes an array and a number *K*; the result is a new array with the smallest *K* values to the left of the partition and the remaining values to the right:"
   ]
  },
  {
   "cell_type": "code",
   "execution_count": 11,
   "metadata": {
    "collapsed": false,
    "jupyter": {
     "outputs_hidden": false
    }
   },
   "outputs": [
    {
     "data": {
      "text/plain": [
       "array([2, 1, 3, 4, 6, 5, 7])"
      ]
     },
     "execution_count": 11,
     "metadata": {},
     "output_type": "execute_result"
    }
   ],
   "source": [
    "x = np.array([7, 2, 3, 1, 6, 5, 4])\n",
    "np.partition(x, 3)"
   ]
  },
  {
   "cell_type": "markdown",
   "metadata": {},
   "source": [
    "Notice that the first three values in the resulting array are the three smallest in the array, and the remaining array positions contain the remaining values.\n",
    "Within the two partitions, the elements have arbitrary order.\n",
    "\n",
    "Similarly to sorting, we can partition along an arbitrary axis of a multidimensional array:"
   ]
  },
  {
   "cell_type": "code",
   "execution_count": 12,
   "metadata": {
    "collapsed": false,
    "jupyter": {
     "outputs_hidden": false
    }
   },
   "outputs": [
    {
     "data": {
      "text/plain": [
       "array([[0, 4, 4, 7, 6, 8],\n",
       "       [0, 0, 2, 6, 5, 9],\n",
       "       [1, 5, 7, 7, 7, 7],\n",
       "       [1, 3, 4, 5, 8, 9]])"
      ]
     },
     "execution_count": 12,
     "metadata": {},
     "output_type": "execute_result"
    }
   ],
   "source": [
    "np.partition(X, 2, axis=1)"
   ]
  },
  {
   "cell_type": "markdown",
   "metadata": {},
   "source": [
    "The result is an array where the first two slots in each row contain the smallest values from that row, with the remaining values filling the remaining slots.\n",
    "\n",
    "Finally, just as there is an `np.argsort` function that computes indices of the sort, there is an `np.argpartition` function that computes indices of the partition.\n",
    "We'll see both of these in action in the following section."
   ]
  },
  {
   "cell_type": "markdown",
   "metadata": {},
   "source": [
    "## Example: k-Nearest Neighbors\n",
    "\n",
    "Let's quickly see how we might use the `argsort` function along multiple axes to find the nearest neighbors of each point in a set.\n",
    "We'll start by creating a random set of 10 points on a two-dimensional plane.\n",
    "Using the standard convention, we'll arrange these in a $10\\times 2$ array:"
   ]
  },
  {
   "cell_type": "code",
   "execution_count": 13,
   "metadata": {
    "collapsed": false,
    "jupyter": {
     "outputs_hidden": false
    }
   },
   "outputs": [],
   "source": [
    "X = rng.random((10, 2))"
   ]
  },
  {
   "cell_type": "markdown",
   "metadata": {},
   "source": [
    "To get an idea of how these points look, let's generate a quick scatter plot (see the following figure):"
   ]
  },
  {
   "cell_type": "code",
   "execution_count": 14,
   "metadata": {
    "collapsed": false,
    "jupyter": {
     "outputs_hidden": false
    }
   },
   "outputs": [
    {
     "data": {
<<<<<<< HEAD
<<<<<<< HEAD
      "image/png": "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",
=======
      "image/png": "iVBORw0KGgoAAAANSUhEUgAAAXEAAAD0CAYAAABtjRZ7AAAAOXRFWHRTb2Z0d2FyZQBNYXRwbG90bGliIHZlcnNpb24zLjQuMywgaHR0cHM6Ly9tYXRwbG90bGliLm9yZy/MnkTPAAAACXBIWXMAAAsTAAALEwEAmpwYAAAZM0lEQVR4nO3df2wT9+E+8Mf2OSbYER20FMLkCNIlS6GMmCqfSch0kEagpl0TovyiSTuNsFZR1yFSsWqTQheqLF07qRolmwABG1mX0FKiQadMS8saj2oFnIQO1YBEmMtgKixAwU5i53z3/aNf3IYEnwk+3138vP6KfW+fH0J4uLzv7m2TLMsyiIjIkMxaByAiosljiRMRGRhLnIjIwFjiREQGxhInIjIwljgRkYEJ8Qw6ceIEXn/9dezdu3fM8x988AG2bdsGQRBQVlaGioqKCV/v9XrvPikRUYpZunSp8iBZwfbt2+XHH39cLi8vH/N8OByWH330UfnatWtyKBSS16xZI1++fHnCfRw/flzpbVT16aefavr+E2Gm+OkxFzPFT4+5jJAp3t5UnE5xOp3YunXruOfPnj0Lp9OJGTNmIC0tDUuXLsWxY8cm9b8NERFNjuJ0yqpVq/Cf//xn3POBQAAZGRnRx3a7HYFA4Lb78fl8k4x490ZGRjR9/4kwU/z0mIuZ4qfHXFMpU1xz4hNxOBwIBoPRx8FgcEyp3yovL2+yb3XXfD6fpu8/EWaKnx5zMVP89JjLCJniPZc46RLPzs6G3+/HtWvXMH36dBw/fhzr1q2b7O6ISCP+wSB2eAbQ2XcRwZAIu01ASX4m1rsXIGuWXet4pOCOS/zgwYMYGhpCZWUlXnrpJaxbtw6yLKOsrAz333+/GhmJSCWHT19CfVsvRiMSROnLtfACIRHtR89jv/cCWmtcWJE7W+OUFEtcJf7Nb34T+/btAwA88cQT0edXrlyJlStXqpOMiFTlHwyivq0Xw6ORcdtESYYoRVDf1ouuDW4ekesYb/YhSlE7PAMYjUgxx4xGJOz0nEtSIpoMljhRiursuxidQrkdUZJxoO9CkhLRZLDEiVJUMCTGNy4c3zjSBkucKEXZbfFd12BPm/RFbJQELHGiFFWSnwnBbIo5RjCbUJo/L0mJaDJY4kQpar17AayW2BVgtZhR556fpEQ0GSxxohSVNcuO1hoX0q2WcUfkgtmEdKsFrTUuXl6ocyxxohS2Inc2uja4UV3ghMMmwGQCHDYB1QVOdG1w80YfA+AZC6IUlzXLji0li7ClZJHWUWgSeCRORGRgLHEiIgNjiRMRGRhLnIjIwHhik4gogZK9PjtLnIgoQbRYn53TKURECfD19dlvXR1SlGQMj365Prt/MHibPUwOS5yIKAG0Wp+dJU5ElABarc/OEiciSgCt1mdniRMRJYBW67OzxImIEkCr9dlZ4kRECaDV+uwscSKiBNBqfXaWOBFRgmixPjvv2CQiSqBkr8/OI3EiIgNjiRMRGRhLnIjIwDgnTpQkyV6ilFIDS5woCbRYopRSA6dTiFSm1RKllBpY4kQq02qJUkoNLHEilWm1RCmlBpY4kcq0WqKUUgNLnEhlWi1RSqlBscQlSUJjYyMqKytRW1sLv98/ZvuuXbuwZs0alJWV4W9/+5tqQYmMSqslSik1KJZ4d3c3wuEwOjo60NDQgJaWlui269ev4w9/+APa29uxa9cuNDc3qxqWyIi0WqKUUoNiiXu9XrjdbgDAkiVLcPLkyei29PR0ZGZmYnh4GMPDwzCZYh9tEKUirZYopdSgOAkXCATgcDiijy0WC0RRhCB8+dK5c+eiuLgYkUgEzz777G334/P5EhB3ckZGRjR9/4kwU/z0mOtOM80B8ObjmTjw6Rf4YOAGhkdlpFtNWLkgA6UPzsAcaRA+32BSMyWLHnNNpUyKJe5wOBAMfnUTgiRJ0QLv6enBpUuX8P777wMA1q1bB5fLhcWLF4/bT15e3h2HSxSfz6fp+0+EmeKnx1yTyZQHoPD/1MkD6PP7BOgzlxEyeb3euF6nOJ3icrnQ09MDAOjv70dOTk5024wZMzBt2jSkpaXBZrMhIyMD169fv9PsREQ0SYpH4kVFRThy5AiqqqogyzKam5uxe/duOJ1OFBYW4qOPPkJFRQXMZjNcLheWLVuWjNxERIQ4StxsNqOpqWnMc9nZ2dGvX3jhBbzwwguJT0ZERIp4sw8RkYGxxImIDIwlTkRkYCxxIiIDY4kTERkYS5yIyMBY4kREBsYSJyIyMJY4EZGBscSJiAyMJU5EZGAscSIiA2OJExEZGEuciMjAWOJERAamuJ64FvyDQezwDKCz7yKCIRF2m4CS/Eysdy/gh8kSEX2N7kr88OlLqG/rxWhEgijJAIBASET70fPY772A1hoXVuTO1jglEZE+6Go6xT8YRH1bL4ZHI9ECv0mUZAyPRlDf1gv/YPA2eyAiSi26KvEdngGMRqSYY0YjEnZ6ziUpERGRvumqxDv7Lo47Ar+VKMk40HchSYmIiPRNVyUeDInxjQvHN46IaKrTVYnbbfGdZ7Wn6e58LBGRJnRV4iX5mRDMpphjBLMJpfnzkpSIiEjfdFXi690LYLXEjmS1mFHnnp+kRERE+qarEs+aZUdrjQvpVsu4I3LBbEK61YLWGhdv+CEi+v90VeIAsCJ3Nro2uFFd4ITDJsBkAhw2AdUFTnRtcPNGHyKir9HlGcKsWXZsKVmELSWLtI5CRCriEht3T5clTkRTH5fYSAzdTacQ0dTHJTYShyVOREnHJTYShyVOREnHJTYShyVOREnHJTYShyVOREnHJTYShyVOREnHJTYShyVOREnHJTYSR7HEJUlCY2MjKisrUVtbC7/fP2b7hx9+iIqKCpSXl+Pll1+GLMc+WUFExCU2EkexxLu7uxEOh9HR0YGGhga0tLREtwUCAbz22mv43e9+h7fffhvz5s3D1atXVQ1MRFMDl9hIDJOscOj8y1/+EosXL0ZxcTEAwO12w+PxAAA8Hg8OHDgAq9WK8+fPo7y8HKWlpeP24fV6MX36dBXix2dkZATTpk3T7P0nwkzx02MuZoqfHnMZIdPQ0BCWLl2q+DrFU7+BQAAOhyP62GKxQBRFCIKAq1ev4uOPP0ZnZyemT5+Op556CkuWLMH8+ePnsfLy8uL9syScz+fT9P0nwkzx02MuZoqfHnMZIZPX643rdYrTKQ6HA8HgV7e+SpIEQfiy+++55x489NBDuO+++2C32/Hwww/D5/PdaXYiIpokxRJ3uVzo6ekBAPT39yMnJye6beHChThz5gyuXLkCURRx4sQJPPDAA+qlJSKiMRSnU4qKinDkyBFUVVVBlmU0Nzdj9+7dcDqdKCwsRENDA+rq6gAAq1evHlPyRESkLsUSN5vNaGpqGvNcdnZ29Ovi4uLoSU8iIkou3uxDRGRgLHEiIgNjiRMRGRhLnIjIwFjiREQGxhInIjIwljgRkYGxxImIDIwlTkRkYCxxIiIDY4kTERkYS5yIyMBY4kREBsYSJyIyMJY4EZGBscSJiAyMJU5EZGAscSIiA2OJExEZGEuciMjAWOJERAbGEiciMjCWOBGRgbHEiYgMjCVORGRgLHEiIgNjiRMRGRhLnIjIwFjiREQGxhInIjIwljgRkYGxxImIDIwlTkRkYCxxIiIDY4kTERmYYolLkoTGxkZUVlaitrYWfr9/wjF1dXX405/+pEpIIiKamGKJd3d3IxwOo6OjAw0NDWhpaRk35o033sD169dVCUhERLcnKA3wer1wu90AgCVLluDkyZNjtnd1dcFkMkXH3I7P57uLmHdnZGRE0/efCDPFT4+5mCl+esw1lTIplnggEIDD4Yg+tlgsEEURgiDgzJkzOHToEH7zm99g27ZtMfeTl5d3x+ESxefzafr+E2Gm+OkxFzPFT4+5jJDJ6/XG9TrFEnc4HAgGg9HHkiRBEL58WWdnJz7//HM888wzuHDhAqxWK+bNm4fly5ffaX4iIpoExRJ3uVw4fPgwHnvsMfT39yMnJye6bdOmTdGvt27dinvvvZcFTkSURIolXlRUhCNHjqCqqgqyLKO5uRm7d++G0+lEYWFhMjISEdFtKJa42WxGU1PTmOeys7PHjfvxj3+cuFREpCn/YBA7PAPo7LuIYEiE3SagJD8T690LkDXLrnU8+hrFEiei1HL49CXUt/ViNCJBlGQAQCAkov3oeez3XkBrjQsrcmdrnJJu4h2bRBTlHwyivq0Xw6ORaIHfJEoyhkcjqG/rhX8weJs9ULKxxIkoaodnAKMRKeaY0YiEnZ5zSUpESljiRBTV2Xdx3BH4rURJxoG+C0lKREpY4kQUFQyJ8Y0LxzeO1McSJ6Iouy2+ax3sabwmQi9Y4kQUVZKfCcFsijlGMJtQmj8vSYlICUuciKLWuxfAaoldC1aLGXXu+UlKREpY4kQUlTXLjtYaF9KtlnFH5ILZhHSrBa01Lt7woyMscSIaY0XubHRtcKO6wAmHTYDJBDhsAqoLnOja4OaNPjrDsxNENE7WLDu2lCzClpJFWkchBTwSJyIyMJY4EZGBscSJiAyMJU5EZGAscSIiA2OJExEZGEuciMjAWOJERAbGEiciMjCWOBGRgbHEiYgMjCVORGRgLHEiIgNjiRMRGRhLnIjIwLieON01/2AQOzwD6Oy7iGBIhN0moCQ/E+vdC/gJMEQqY4nTXTl8+hLq23oxGpEgSjIAIBAS0X70PPZ7L6C1xsVPgiFSEadTaNL8g0HUt/VieDQSLfCbREnG8GgE9W298A8GNUpINPWxxGnSdngGMBqRYo4ZjUjY6TmXpEREqYclTpPW2Xdx3BH4rURJxoG+C0lKRJR6WOI0acGQGN+4cHzjiOjOscRp0uy2+M6L29N4/pxILfzXRZNWkp+J9qPnY06pCGYTSvPnJTEVqY2XlOqL4pG4JElobGxEZWUlamtr4ff7x2zfs2cPysvLUV5ejjfffFO1oKQ/690LYLXE/hGyWsyoc89PUiJS2+HTl7D6DQ/aj55HICRCxleXlK5+w4PDpy9pHTHlKJZ4d3c3wuEwOjo60NDQgJaWlui28+fP489//jPa29uxb98+/OMf/8CpU6dUDUz6kTXLjtYaF9KtFghm05htgtmEdKsFrTUuHp1NEbykVJ8US9zr9cLtdgMAlixZgpMnT0a3zZkzBzt37oTFYoHJZIIoirDZbOqlJd1ZkTsbXRvcqC5wwmETYDIBDpuA6gInuja4eaPPFMJLSvVJcU48EAjA4XBEH1ssFoiiCEEQYLVaMXPmTMiyjF/96ld48MEHMX/+xL86+3y+xKW+QyMjI5q+/0SmWqa1uRaszXWOeW7o0mfwJeC366n2vVKL2pne9cY+/wF8eUS+3/sZ1uZakpZrMqZSJsUSdzgcCAa/+vVIkiQIwlcvC4VC+NnPfga73Y7Nmzffdj95eXl3HC5RfD6fpu8/EWaKnx5zpWKm4dGB+MaJ8pgcqfi9moxbM3m93rhepzid4nK50NPTAwDo7+9HTk5OdJssy6ivr0dubi6amppgsVhutxsiMjheUqpPit/toqIiHDlyBFVVVZBlGc3Nzdi9ezecTickScLRo0cRDofh8XgAABs3bkR+fr7qwYkouXhJqT4plrjZbEZTU9OY57Kzs6Nf/+tf/0p8KiLSnfXuBdjvvQBRitx2DC8pTT7esUlEceElpfrEEieiuPGSUv3hGQgiuiNZs+zYUrIIW0oWaR2FwCNxIiJDY4kTERkYS5yIyMBY4kREBsYSJyIyMJY4EZGBscSJiAyMJU5EZGAscSIiA2OJExEZGEuciMjAWOJERAbGEiciMjCWOBGRgbHEiYgMjCVORGRg/FAISgn+wSB2eAbQ2XcRwZAIu01ASX4m1rsX8OPEyNBY4jTlHT59CfVtvRiNSNFPag+ERLQfPY/93gtorXHxY8XIsDidQlOafzCI+rZeDI9GogV+kyjJGB6NoL6tF/7BoEYJie4OS5ymtB2eAYxGpJhjRiMSdnrOJSkRUWJxOoVUp+V8dGffxXFH4LcSJRkH+i7wg3/JkFjipCqt56ODITG+ceH4xhHpDadTSDV6mI+22+I7TrGn8XiGjIklTqrRw3x0SX4mBLMp5hjBbEJp/jzVMhCpiSVOqrmT+Wi1rHcvgNUS+8fcajGjzj1ftQxEamKJk2r0MB+dNcuO1hoX0q2WcUfkgtmEdKsFrTUu3vBDhsUSJ9XoZT56Re5sdG1wo7rACYdNgMkEOGwCqguc6Nrg5o0+ZGg8m0OqKcnPRPvR8zGnVJI1H501y44tJYt4GSFNOTwSJ9VwPppIfSxxUg3no4nUxxInVXE+mkhdnBMn1XE+mkg9ikfikiShsbERlZWVqK2thd/vH7N93759WLNmDSoqKnD48GHVghIR0XiKR+Ld3d0Ih8Po6OhAf38/Wlpa8Nvf/hYAcPnyZezduxf79+9HKBTC2rVrsWzZMqSlpakenIiI4jgS93q9cLvdAIAlS5bg5MmT0W2ffPIJ8vPzkZaWhoyMDDidTpw6dUq9tERENIbikXggEIDD4Yg+tlgsEEURgiAgEAggIyMjus1utyMQCEy4H6/Xm4C4k6f1+0+EmeKnx1zMFD895poqmRRL3OFwIBj8apU5SZIgCMKE24LB4JhSv2np0qV3HIyIiJQpTqe4XC709PQAAPr7+5GTkxPdtnjxYni9XoRCIdy4cQNnz54ds52IiNRlkmU55jJzkiTh5ZdfxpkzZyDLMpqbm9HT0wOn04nCwkLs27cPHR0dkGUZzz77LFatWpWs7EREKU+xxImISL+mzM0+N39jOH36NNLS0vDKK68gKysrun3Pnj147733AACPPPIInn/+eV3k+uMf/4h3330XJpMJP/zhD/HYY49pnunmmB/96EcoLCxEdXW15pleeeUV9Pb2wm7/8hb91tbWCc+/JDPThx9+iG3btkGWZSxcuBCbN2+GyRT7AyjUzuXz+dDc3Bwd29/fj23btmH58uWaZQKAXbt24dChQzCZTHjuuedQVFSkap54Mm3fvh3vvfceHA4H6urqsGLFCtUz3XTixAm8/vrr2Lt375jnP/jgA2zbtg2CIKCsrAwVFRXKO5OniL/+9a/yT3/6U1mWZbmvr09+7rnnots+++wzubS0VBZFUZYkSa6srJR9Pp/muQYHB+Xi4mI5HA7LN27ckJcvXy5LkqRpppt+/etfy+Xl5fJbb72lep54MlVVVcmDg4NJyRJPphs3bsjFxcXRTNu3b09avnj+/mRZlv/yl7/IGzdu1DzTF198IT/yyCNyKBSSr127Jn/ve9/TPNOpU6fkJ554Qh4ZGZFHRkbkkpISeWhoKCm5tm/fLj/++ONyeXn5mOfD4bD86KOPyteuXZNDoZC8Zs0a+fLly4r7mzJrp8S6nn3OnDnYuXMnLBYLTCYTRFGEzWbTPNfMmTPR2dkJq9WK//3vf7DZbEk5kouVCQC6urpgMpmiY5IhViZJkuD3+9HY2Iiqqiq88847mmfq6+tDTk4OXn31Vaxduxb33nsvZs6cqXmum4aGhrB161b8/Oc/1zxTeno6MjMzMTw8jOHh4aT8jCtlOnv2LAoKCmCz2WCz2ZCVlYXTp08nJZfT6cTWrVvHPX/27Fk4nU7MmDEDaWlpWLp0KY4dO6a4vylT4re7nh0ArFYrZs6cCVmW8eqrr+LBBx/E/PnJWf40Vi4AEAQBbW1tqKysxPe//33NM505cwaHDh3CT37yk6RkiSfT0NAQampq8Nprr2Hnzp146623knJTWaxMV69exccff4wXX3wRO3bswO9//3ucO6feZ4XGm+umd955B6tXr07afyxKmebOnYvi4mKUlpbi6aef1jxTbm4ujh8/jkAggKtXr6Kvrw/Dw8NJybVq1aroZdq35o33vpuvmzIlHut6dgAIhUJ48cUXEQwGsXnzZt3kAoCamhp4PB4cO3YM//znPzXN1NnZic8//xzPPPMMDhw4gD179kQvMdUqU3p6Op5++mmkp6fD4XDgu9/9blJKPFame+65Bw899BDuu+8+2O12PPzww/D5fKpnUsp108GDB1FeXp6UPEqZenp6cOnSJbz//vv4+9//ju7ubnzyySeaZsrOzsZTTz2Furo6bNmyBd/5znfwjW98Q/VMscR7382tpkyJx7qeXZZl1NfXIzc3F01NTbBYLLrINTAwgOeffx6yLMNqtSItLQ1ms/p/JbEybdq0CW+//Tb27t2L0tJS/OAHP1D9pJhSpn//+9+orq5GJBLB6Ogoent7sXDhQk0zLVy4EGfOnMGVK1cgiiJOnDiBBx54QPVMSrkA4MaNGwiHw5g7d25S8ihlmjFjBqZNm4a0tDTYbDZkZGTg+vXrmma6cuUKgsEg2tvb8Ytf/AL//e9/8a1vfUv1TLFkZ2fD7/fj2rVrCIfDOH78OPLz8xVfN2WuTikqKsKRI0dQVVUVvZ599+7dcDqdkCQJR48eRTgchsfjAQBs3Lgxrm+QmrkKCwvx7W9/G5WVldE56IKCAs0zaUEp05NPPomKigpYrVY8+eSTSfkHp5SpoaEBdXV1AIDVq1cn7UY3pVznzp3DvHnqf+TdnWT66KOPUFFRAbPZDJfLhWXLlmmaaeXKlRgYGEBZWRmsVis2bdqU1IO7rzt48CCGhoZQWVmJl156CevWrYMsyygrK8P999+v+HpeJ05EZGBTZjqFiCgVscSJiAyMJU5EZGAscSIiA2OJExEZGEuciMjAWOJERAb2/wAdJtaghhbgJwAAAABJRU5ErkJggg==",
>>>>>>> d66231454ef753818dc9213c9b5942e067266966
=======
      "image/png": "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",
>>>>>>> d66231454ef753818dc9213c9b5942e067266966
      "text/plain": [
       "<Figure size 432x288 with 1 Axes>"
      ]
     },
     "metadata": {},
     "output_type": "display_data"
    }
   ],
   "source": [
    "%matplotlib inline\n",
    "import matplotlib.pyplot as plt\n",
    "plt.style.use('seaborn-whitegrid')\n",
    "plt.scatter(X[:, 0], X[:, 1], s=100);"
   ]
  },
  {
   "cell_type": "markdown",
   "metadata": {},
   "source": [
    "Now we'll compute the distance between each pair of points.\n",
    "Recall that the squared distance between two points is the sum of the squared differences in each dimension;\n",
    "using the efficient broadcasting ([Computation on Arrays: Broadcasting](02.05-Computation-on-arrays-broadcasting.ipynb)) and aggregation ([Aggregations: Min, Max, and Everything In Between](02.04-Computation-on-arrays-aggregates.ipynb))  routines provided by NumPy we can compute the matrix of square distances in a single line of code:"
   ]
  },
  {
   "cell_type": "code",
   "execution_count": 15,
   "metadata": {
    "collapsed": false,
    "jupyter": {
     "outputs_hidden": false
    }
   },
   "outputs": [],
   "source": [
    "dist_sq = np.sum((X[:, np.newaxis] - X[np.newaxis, :]) ** 2, axis=-1)"
   ]
  },
  {
   "cell_type": "markdown",
   "metadata": {},
   "source": [
    "This operation has a lot packed into it, and it might be a bit confusing if you're unfamiliar with NumPy's broadcasting rules. When you come across code like this, it can be useful to break it down into its component steps:"
   ]
  },
  {
   "cell_type": "code",
   "execution_count": 16,
   "metadata": {
    "collapsed": false,
    "jupyter": {
     "outputs_hidden": false
    }
   },
   "outputs": [
    {
     "data": {
      "text/plain": [
       "(10, 10, 2)"
      ]
     },
     "execution_count": 16,
     "metadata": {},
     "output_type": "execute_result"
    }
   ],
   "source": [
    "# for each pair of points, compute differences in their coordinates\n",
    "differences = X[:, np.newaxis] - X[np.newaxis, :]\n",
    "differences.shape"
   ]
  },
  {
   "cell_type": "code",
   "execution_count": 17,
   "metadata": {
    "collapsed": false,
    "jupyter": {
     "outputs_hidden": false
    }
   },
   "outputs": [
    {
     "data": {
      "text/plain": [
       "(10, 10, 2)"
      ]
     },
     "execution_count": 17,
     "metadata": {},
     "output_type": "execute_result"
    }
   ],
   "source": [
    "# square the coordinate differences\n",
    "sq_differences = differences ** 2\n",
    "sq_differences.shape"
   ]
  },
  {
   "cell_type": "code",
   "execution_count": 18,
   "metadata": {
    "collapsed": false,
    "jupyter": {
     "outputs_hidden": false
    }
   },
   "outputs": [
    {
     "data": {
      "text/plain": [
       "(10, 10)"
      ]
     },
     "execution_count": 18,
     "metadata": {},
     "output_type": "execute_result"
    }
   ],
   "source": [
    "# sum the coordinate differences to get the squared distance\n",
    "dist_sq = sq_differences.sum(-1)\n",
    "dist_sq.shape"
   ]
  },
  {
   "cell_type": "markdown",
   "metadata": {},
   "source": [
    "As a quick check of our logic, we should see that the diagonal of this matrix (i.e., the set of distances between each point and itself) is all zeros:"
   ]
  },
  {
   "cell_type": "code",
   "execution_count": 19,
   "metadata": {
    "collapsed": false,
    "jupyter": {
     "outputs_hidden": false
    }
   },
   "outputs": [
    {
     "data": {
      "text/plain": [
       "array([0., 0., 0., 0., 0., 0., 0., 0., 0., 0.])"
      ]
     },
     "execution_count": 19,
     "metadata": {},
     "output_type": "execute_result"
    }
   ],
   "source": [
    "dist_sq.diagonal()"
   ]
  },
  {
   "cell_type": "markdown",
   "metadata": {},
   "source": [
    "With the pairwise square distances converted, we can now use `np.argsort` to sort along each row. The leftmost columns will then give the indices of the nearest neighbors:"
   ]
  },
  {
   "cell_type": "code",
   "execution_count": 20,
   "metadata": {
    "collapsed": false,
    "jupyter": {
     "outputs_hidden": false
    }
   },
   "outputs": [
    {
     "name": "stdout",
     "output_type": "stream",
     "text": [
      "[[0 9 3 5 4 8 1 6 2 7]\n",
      " [1 7 2 6 4 8 3 0 9 5]\n",
      " [2 7 1 6 4 3 8 0 9 5]\n",
      " [3 0 4 5 9 6 1 2 8 7]\n",
      " [4 6 3 1 2 7 0 5 9 8]\n",
      " [5 9 3 0 4 6 8 1 2 7]\n",
      " [6 4 2 1 7 3 0 5 9 8]\n",
      " [7 2 1 6 4 3 8 0 9 5]\n",
      " [8 0 1 9 3 4 7 2 6 5]\n",
      " [9 0 5 3 4 8 6 1 2 7]]\n"
     ]
    }
   ],
   "source": [
    "nearest = np.argsort(dist_sq, axis=1)\n",
    "print(nearest)"
   ]
  },
  {
   "cell_type": "markdown",
   "metadata": {},
   "source": [
    "Notice that the first column gives the numbers 0 through 9 in order: this is due to the fact that each point's closest neighbor is itself, as we would expect.\n",
    "\n",
    "By using a full sort here, we've actually done more work than we need to in this case. If we're simply interested in the nearest $k$ neighbors, all we need to do is partition each row so that the smallest $k + 1$ squared distances come first, with larger distances filling the remaining positions of the array. We can do this with the `np.argpartition` function:"
   ]
  },
  {
   "cell_type": "code",
   "execution_count": 21,
   "metadata": {
    "collapsed": false,
    "jupyter": {
     "outputs_hidden": false
    }
   },
   "outputs": [],
   "source": [
    "K = 2\n",
    "nearest_partition = np.argpartition(dist_sq, K + 1, axis=1)"
   ]
  },
  {
   "cell_type": "markdown",
   "metadata": {},
   "source": [
    "In order to visualize this network of neighbors, let's quickly plot the points along with lines representing the connections from each point to its two nearest neighbors (see the following figure):"
   ]
  },
  {
   "cell_type": "code",
   "execution_count": 22,
   "metadata": {
    "collapsed": false,
    "jupyter": {
     "outputs_hidden": false
    }
   },
   "outputs": [
    {
     "data": {
<<<<<<< HEAD
<<<<<<< HEAD
      "image/png": "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",
=======
      "image/png": "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",
>>>>>>> d66231454ef753818dc9213c9b5942e067266966
=======
      "image/png": "iVBORw0KGgoAAAANSUhEUgAAAXEAAAD0CAYAAABtjRZ7AAAAOXRFWHRTb2Z0d2FyZQBNYXRwbG90bGliIHZlcnNpb24zLjQuMywgaHR0cHM6Ly9tYXRwbG90bGliLm9yZy/MnkTPAAAACXBIWXMAAAsTAAALEwEAmpwYAABD30lEQVR4nO3dd1yV5f/H8dc5HPZQUREXpCQEjhRHiuFCxA1qDBNHZq7KSq20TMtdlmnOn9vcOMAUR6GYOHKgOHEEirjAhco8HM79+8OvJwkUNA73Aa7n4+HjIedc577fB+Hjfa77GgpJkiQEQRCEEkkpdwBBEATh1YkiLgiCUIKJIi4IglCCiSIuCIJQgokiLgiCUIKJIi4IglCCqQrT6NSpU/z444+sWrUq1+N79+5l3rx5qFQqevXqRUBAQL6vj46O/u9JBUEQypjGjRsX3EgqwKJFi6SuXbtK/v7+uR5Xq9VS+/btpZSUFCkrK0vq2bOndOfOnXyPcfz48YJOo1fnz5+X9fz5EZkKzxBziUyFZ4i5SkKmwtbNArtTHBwcmDNnTp7H4+LicHBwoFy5cpiYmNC4cWOOHTv2Sv/bCIIgCK+mwO4UHx8frl+/nufx1NRUrK2tdV9bWlqSmpr63OPExsa+YsT/LjMzU9bz50dkKjxDzCUyFZ4h5ipNmQrVJ54fKysr0tLSdF+npaXlKur/5urq+qqn+s9iY2NlPX9+RKbCM8RcIlPhGWKukpCpsPcSX7mIOzk5kZCQQEpKChYWFhw/fpz333//VQ8nCIJMEu6lsTgqnrCTN0nL0mBpqsKvUTU+8KyNY0VLueMJBXjpIr5t2zbS09MJDAxkzJgxvP/++0iSRK9evahSpYo+MgqCoCeRF5MZvvoE2TlaNNona+GlZmlYfzSRzdE3mB/sTlsXO5lTCi9SqCJeo0YNQkJCAOjWrZvu8Xbt2tGuXTv9JBMEQa8S7qUxfPUJMrJz8jyn0UpotDkMX32CXZ96iityAyYm+whCGbU4Kp7sHO0L22TnaFkSdaWYEgmv4pX7xAVBKNnCTt7UdaFkXDtD8rqvAAmlmTWqClUxreqMWe3GbFbkMMmvnrxhhecSRVwQyqi0LA0Aj46G8iByKQBKi/JI6nTUty6hvnWJxye2cwew/sUKBwcHGjZsSPv27enWrRuVKlWSMb3wlCjiglBGWZqquLJxKumx+8FIhd0732L+WkMAtOp0MuKjybhyEk1yHEYZdzl//jznz59n7dq1AJiammJvb0/dunVp3bo1vr6+uLi4yPiOyiZRxAWhDEpPTydp+XDSE+NRmpej6oBZqGwq655Xmlhg+YYn5dxa0buZA5P86qHVajl06BDbtm3jr7/+4tKlS1y/fp2EhAR27NjBl19+iVKppFKlSjg7O9OiRQs6d+5M5cqVX5BE+K9EEReEMubixYs0b96clJQUzKo5U7n3dJQqk3zbGhspGeRZCwClUsnbb7/N22+/navN5cuXCQsLY//+/Zw7d46bN29y4MABDhw4wIwZMwAoV64cr732Gk2aNMHb25suXbpgZWWl3zdaRojRKYJQhoSGhlKvXj1SUlIYMmQIO/ZGYWlujkqpyNVOpVRgbmzE/GD3AocX1qlTh88//5xt27YRHx9PZmYm9+7dY8WKFfTt25c6deqQk5PDqVOnWLp0KUFBQVhbW2NhYUGdOnXo2bMnc+bM4dq1a/p866WWuBIXhDLi66+/ZurUqSiVSpYsWaKbYb3rU0+WRF0h9OQN0tQaLE1U9GhUnUGetV55fLitrS39+/enf//+uunkarWayMhIduzYwdGjR7l8+TJxcXH8/fffhIaGMmLECFQqFXZ2drzxxhu0bNmSbt260bhxY5RKcb35PKKIC0Ipp9Vq6dy5M7t378bCwoJ9+/bRtGlT3fOOFS2Z5FdP78MITUxM8PHxwcfHJ9fjp0+fJiwsjIMHD3L+/HmSkpK4efMme/fuZdKkSSgUCipUqEDt2rVp1qwZPj4+dOjQATMzM73mLSlEEReEUuz+/fu4u7uTkJCAg4MDJ0+exNbWVu5YuTRo0IAGDRrkeuzmzZts3bqVyMhITp8+TWJiIsePH+f48ePMnz8feLJyas2aNWnYsCFeXl50794dO7uyt0SAKOKCUEodP36cNm3akJaWhre3N7t27Sox3RLVqlVj2LBhDBs2TPdYeno6O3fu5I8//uD48ePExcVx8eJFLly4wPr16/nggw8wMTHB3t4eNzc3WrVqRffu3albt66M70T/RBEXhFJo+fLlDBo0CK1Wy9ixY5k6darckf4zCwsLevXqRa9evXSPabVajhw5wrZt2zh8+DAXLlzgxo0bXLt2jV27dvHVV1+hVCqpWLEiderUoXnz5nTu3LlUXbGLIi4Ipczw4cNZsGABKpWKkJCQXEWvtFEqlbRo0YIWLVrkevzKlSuEhoayf/9+zpw5w82bNzl06BCHDh1i5syZANjY2ODo6Ii7uzve3t5069YNGxsbOd7GfyKKuCCUEmq1mubNm3PkyBHKlSvH4cOHDW7jg+JSq1YtRo4cyciRI3WPpaSksH37diIiIjh8+DC3bt3izJkznDlzhpUrVwJgZmZGtWrVqF+/Pm3atMHX15datWq91LmLe312UcQFoRS4fv06Xl5e3Lt3D1dXV44ePSom0/xL+fLlCQ4OJjg4WDfsUaPREBkZyc6dOzly5AiXL1/m6tWrxMfHs3XrVj777DNUKhWVK1fGxcUFDw8PunbtyltvvZXv/QU51mcXRVwQSrh9+/bRsWNHsrKy8Pf3Z/369SXmBqbcVCoV3t7eeHt753r87NmzbN26lQMHDnDu3DmSkpLYt28f+/btY+rUqSgUCsqXL0/t2rVp2rQpHTp0wK1ZK1nWZxdFXBBKsJkzZzJ69GgARo0axY8//ihzotKhXr161KuXe9x8cnIyYWFhREZGEhMTQ2JiItHR0URHR7Nw4UIAFCpTjGwqYWJXC1OHN7FwboHKsrzuGE/XZy/KMfmiiAtCCdW7d2/Wr1+PiYkJO3fupGrVqnJHKtXs7OwYPHgwgwcP1j2WmZnJ7t272b17N8vDIlA/uIXm/g0092+QfuEADyIW4vj5Vl17jVYi9OQNUcQFoSxLT0+nadOmnD9/Hjs7O6Kjo6lRowaxsbFyRytzzMzM8PX1xdfXl5024UhAjiabOxsnkHXtNJZ12+Z5TZpaU6QZRMeZIJQgFy9epHr16pw/f55mzZqRmJhIjRo15I4l8GR9dknS8mD3HLKunaZCuw+o1PnTvO1MivbaWRRxQSghtm7dqluBcOjQoRw5cgQTk/yXkBWKn2/DqqT8sZC0s3sp5xmMTVPfPG1USgU9GlUv0vOKIi4IJcA333yDn58fWq2WJUuWsGDBArkjCc+QJIm7e5bx6OQObN56h3ItAvNt9+z67EVF9IkLggEraAVCwTBMmjSJRfNm4/vuQC7Ueud/Qwol3fMqpQJjI2Wh1md/WaKIC4KBKgkrEArw008/MWHCBAYMGMDSpYtJfJBR5Ouzv4go4oJggEryCoRlycKFCxk9ejQBAQEsWbIEpVJZbOuzPyV+KgTBwCxfvpy33nqLtLQ0xo4dy++//y4KuAFatWoVw4cPp2vXrqxatQojIyNZcogrcUEwIGVpBcKSbPPmzQwYMIC2bduyceNGWUcJiSIuCAZAo9Hg6enJX3/9Rbly5Thy5AguLi5yxxLysWPHDnr37k3z5s3ZunWr7NvEiSIuCMXkeUuUdnUyxc+7FUlJSWIFQgMXGRlJr169qF+/PuHh4Qbx7yQ62gShGEReTKbjrCjWH00kNUuDxJMlSpdvDMejUT2SkpIIDAzk/PnzBlEYhLwOHz5Mt27dqF27Nrt376Z8+fJyRwLElbgg6F3CvbR8lyh9dDSUB5FLAajsNYjv582SIZ1QGCdPnqRTp07Y29sTERFBpUqV5I6kI67EBUHPFkfFk52jzfXYna3fPyngRirsgqZg06wHS6KuyJRQeJHY2Fg6dOiAjY0Ne/bsMbjVIsWVuCDoiSRJJCcns2bLTh7dvoL6biLZ966RdT0WtBpQqqj63jxMKlbXyxKlwn8XFxeHl5cXRkZG7NmzB0dHR7kj5SGKuCD8R5IkcfPmTc6fP5/nz/3793XtFCYWGFeqidlrDcm8GgNaDbeWf0SFVv2wadajyJcoFf6bxMREvLy8yMrK4s8//6ROnTpyR8qXKOKCUEharZZr165x/vx5IiMjuXfvHrGxsZw/f55Hjx7p2tna2lK3bl38/f1xc3Nj5rE0NDbVMbKyRaFQ6I71MGo1j45s4kHkUh4d34pDwDdyvTXhX5KSkmjfvj0PHjxg7969eXb5MSQFFnGtVsu3337LxYsXMTExYfLkybk+Uixbtozt27ejUCgYOnRonr3qBKGkycnJ4cqVK3muqmNjY0lPT9e1q1KlCm5ubvTt2xc3Nzfdn8qVK+uKNUBy2BnWH03MtSCSUqmkQut+WDf1427YVLISz3Jl6Sd0vrmLkJAQMUJFRvfv38fb25vr16+ze/duGjduLHekFyqwiEdERKBWq9mwYQMxMTFMnz5dtwzmo0eP+PXXX/n999/JyMjAz89PFHGhxMjOziYuLi5Psb5w4QJZWVm6djVq1MDNzY3Bgwfj5uaGq6srRkZGtGjRolDn+cCzNpujb6DR5t1AV2Vhg/2709HeOEvG7z+zc+dOKlasyHfffceYMWOK7L0KhfPo0SM6duzIxYsXCQ8P5+2335Y7UoEKLOLR0dF4enoC0LBhQ86ePat7ztzcnGrVqpGRkUFGRkauqw9BMBRZWVlcunQpT7G+fPky2dnZunavvfYabm5ueHt7666q33jjDcqVK5fnmC+zFZpjRUvmB7szfPUJsnO0+S9ROu492q76ku+++47JkyczduxY5s6dy8aNGwv9n4Xw36Snp9O1a1dOnjzJli1baN++vdyRCkUhSZL0ogZff/01HTp0oHXr1gC0adOGiIgIVCoV2dnZjBkzhiNHjpCTk8OQIUMYMGBAnmNER0djYWGhlzdQGJmZmbJPjf03kanwCpsrIyODK1euEBcXl+vPtWvX0GqfDPFTKpXUqFEDJycnnJyceP3113FycqJWrVov9TP6Kt+rm4+yCT3/kL3xj8nIljA3VtCutjU93MpRzcZY1+7Ro0d89tlnHD58GIAWLVowe/bsArtYSvq/X3H6dya1Ws2HH37IoUOH+PHHH+nUqZPsmdLT0wvXlSMVYOrUqVJ4eLjua09PT93fIyIipODgYCkzM1PKzMyU+vTpI506dSrPMY4fP17QafTq/Pnzsp4/PyJT4f0716NHj6QjR45Iy5cvlz7//HOpa9euUu3atSWFQiEBEiCpVCrJ1dVV6tWrl/TNN99I69atk06dOiVlZGToJZM+HDhwQKpWrZoESMbGxtJ3330ne6ZXYYi5ns2kVqslX19fCZCWLl1qEJkkqfB1s8DuFHd3dyIjI+ncuTMxMTE4OzvrnitXrhxmZmaYmJigUCiwtrbOdZdeEP6LBw8eEBsby549e3jw4IGuGyQxMVHXxsTEBBcXF5o2bUr//v113SCvv/56id9/smXLlty4cYNp06YxYcIEJkyYwIIFC9i4cWOJ6KstCXJychgwYABbt27ll19+YeDAgXJHemkFFnFvb28OHjxIUFAQkiQxdepUli9fjoODA15eXhw6dIiAgACUSiXu7u60bNmyOHILpcidO3d0Q/We/XPr1i1dG3Nzc1xdXWndujWurq66Yl27dm1UqtI9Unbs2LF8/PHH+Pv7s2vXLjw9PWnbti1btmwxmPU7SiJJkhg6dChr165l2rRpfPzxx3JHeiUF/vQrlUomTpyY6zEnJyfd30eMGMGIESOKPplQqkiSxO3bt/OdEHP37l1dOysrK9zc3PDx8dEVahMTE7y8vMr0xghWVlbs3LmTY8eO0atXLyIjI6lcuTJjxoxh0qRJcscrcSRJ4rPPPmPJkiV8/fXXJXokUOm+hBGKnSRJXL9+Pd9inZKSomtXvnx53Nzc8PPzyzXGukaNGnlGOcXGxpbpAv6spk2bcu3aNWbMmMG4ceOYPHkyixYtYt26dQa3pochmzNnDgsXLuSTTz4p8f8JiiIuvBKtVsvVq1dzTYR5+vfU1FRdu8qVK+Pm5kbv3r1zFesqVaqIIan/weeff86wYcMICgoiPDwcLy8vGjduzK5duwxqhT1DNH36dBYuXMigQYP4+eefS/zPoSjiwgtpNBri4+PznRCTkZGha1e1alXc3Nx47733dIXa1dWVypUry5i+dLOysmL79u2cOHGCnj17Eh0djb29PaNGjWLatGni00s+5s6dy9ixY+nSpQsLFy4s8QUcRBEX/ketVvP3339z7ty5XMX64sWLqNVqXTsHBwfc3Nxo06ZNrmJdoUIFGdOXbe7u7ly9epWvvvqKmTNn8sMPP7B06VLWrFmDj4+P3PEMxvLly/n444/x9fVl4sSJsm1sXNREES9jMjMzuXjxYp4r67///huN5skqegqFglq1auHm5kanTp1yzV60traW+R0Iz9O3b1/GjRtHcHAwoaGhdOzYkRYtWhAWFoadnZ3c8WS1YcMGBg0aRIcOHdiwYQPx8fFyRyoyooiXUmlpaVy4cCFPsY6Pj9fNXjQyMsLJyQk3Nzd69uxJuXLl8Pb2xsXFRdYZtsKrs7CwYMuWLZw+fZoePXpw+PBhqlWrxieffMKMGTPKZBfLtm3bCA4OpmXLloSGhmJqaip3pCIlingJ9/DhQ2JjY/OMs7569aqujbGxMc7OzjRq1Ig+ffrorqzr1KmT6wc6NjYWV1dXGd6FUNQaNGhAXFwcCxYsYOTIkcycOZMVK1awcuVKunbtKne8YhMREYG/vz8NGzZk+/btpfLiRBTxEuL+/fv5Dtu7ceOGro2pqSlvvPEGLVq04P3339cVaycnJ4yNjV9wdKG0GjZsGO+99x79+vVj06ZNdOvWjaZNmxIWFka1atXkjqdXBw8exNfXF2dnZ3bv3o2NjY3ckfRCFHEDIkkSd+7cybdYJyUl6dpZWFjg5uZGu3btcg3bq1WrVqm5WSMUHTMzM0JCQjh37hw9evTg2LFj1KxZk+HDhzN79uxS2cUSHR1N586dqVGjBn/88Qe2trZyR9IbUcRlIEkSSUlJ+U6KeXY7LxsbG9zc3OjSpUuuYl2zZs1S+Ysn6FfdunW5dOkSS5YsYcSIEcydO5fVq1ezbNkyevToIXe8InP27Fk6dOiAra0te/bsoUqVKnJH0itRxPVIq9WSmJiY75X1v7fzcnNz45133slVrKtVq1YqxrEKhmXQoEH069ePAQMGsH79enr27Im7uzuhoaE4ODjIHe8/uXz5Mt7e3piZmREREUGNGjXkjqR3oogXgWe383r2BmNsbCxpaWm6ds9u52Vra6vrDvn3dl6CoG8mJiasXbuWCRMm4Ofnx4kTJ6hVqxaDBw9m3rx5JfKTXkJCAl5eXmg0Gvbv359rjafSTBTxl1DY7byqV6+Om5sbgwYNyjUhpmLFiro2YiSIYAhcXFyIjY1l5cqVfPjhhyxcuJC1a9eyePFiAgIC5I5XaLdu3aJ9+/Y8fvyYyMjIMvW7JYp4PrKysrh8+XKeYn3p0qU823m5urrSvn37XMU6v+28BMGQ9e/fnz59+vD++++zatUqAgMDmTJlCr/99luujdEN0d27d/H29ubWrVtERETQsGFDuSMVqzJdxNPT0/OdvRgXF0dOzpNNbRUKhW5CTLdu3XTF2sXFRexILpQqKpWKlStXMn78ePz8/Dh9+jS1atVi4MCBLFy40CDXbX/48CE+Pj7ExcWxc+dOmjdvLnekYmd4/ypAwr00FkfFE3byJmlZGixNVfg1qsYHnrVxrGj50sdLS0vj2LFjeYr1lStXkP63xaiRkRF16tShXr16BAQE6Iq1s7Mz5ubmRf0WBcFgOTk5cebMGdatW8fgwYNZunQpGzZsYOHChfTp00fueDppaWl07tyZM2fOEBYWRps2beSOJAuDK+KRF5Pz7AqemqVh/dFENkffYH6wO21d8l8HIiUlJc/NxfPnz3Pt2jVdm9K8nZcgFKXevXvj7+/PsGHDWLp0KcHBwUybNo2tW7fKftMwMzMTX19f/vrrL0JCQujcubOseeRkUEU84V4aw1efICM7J89zGq2ERpvD8NUnWNvXlce3E164nZeZmRmurq54enpSqVIl3ap7ZWE7L0EoKiqVisWLFzNu3Dh8fX05deoUderUITg4mGXLlsnyu5SdnY2/vz979uzh119/pVevXsWewZAYVDVbHBVPdo5W93VOWgrqO1fJvpf45M/da2TfS8R98kNdm6fbeXXo0CHXGGtHR0fd7EUxEkQQ/htHR0diYmLYtGmT7ubnli1bmDdvHv379y+2HDk5OQQHB7N9+3YWLFhA3759i+3chsqginjYyZu6LhSAGwsHImmerGWtMLXEpJIDFq+/haX9a6wc2fO523kJgqAf77zzDj179uTDDz9k0aJFDBgwgOnTpxMWFoaLi4tez63Vahk0aBAhISH8+OOPDB06VK/nKykMakR/WpYm19c2LQIABcaVHKk2aAH2wTOo2GkE5u7d8fHxoWbNmqKAC0IxUyqVLFiwgISEBBo3bsyFCxdwdXXl3XffzbWBSFGSJIlPPvmEFStW8O233zJq1Ci9nKckMqgibmma+4NBeY8gKr8zHk3KbZLWfEl2yu0n7UwM6gOEIJRJNWrU4Pjx44SFhVGuXDnWrVtH+fLlWbJkSZGeR5Ikxo4dy9y5cxk9ejTjx48v0uOXdAZVxP0aVUOlzH1lbeHUlCpBU9BmpnJ79WhykuPp0ai6TAkFQfg3X19f7t27x8cff0xWVhYffPABzs7OnDt3rkiOP3XqVL7//nuGDh3KDz/8ID59/4tBFfEPPGtjbJQ3kmn1N7Dv8wMKpTE313yJm5QgQzpBEJ5HqVTyyy+/cOPGDZo1a8bly5epX78+/v7+ZGZmvvJxZ82axbhx4+jbty/z5s0TBTwfBlXEHStaMj/YHXNjozxX5OZ2Drz23k84ODowIKgnISEhMqUUBOF57O3tOXLkCOHh4VSoUIFNmzbRokUL5s+f/9LHWrRoEZ999hm9evVi2bJlJXJRruJgcN+Vti527PrUk97NHLAyVaFQgJWpit7NHNgzvicnjhymadOmBAUFMXfuXLnjCoKQj86dO3Pnzh1Gjx5NdnY2H374IU5OTpw+fbpQr1+zZg1Dhw6lU6dOrF27VszteAGD/M44VrRkkl89JvnVy+dZS/744w+CgoL4+OOPuX37NpMmTRIfswTBwCiVSmbMmIGvry9ffvklhw4d4s0338TPz49169ZhZmaW7xIbb2TFEvbjaFq3bs3mzZvFTOoCGGQRL4i5uTmbN29m2LBhTJkyhdu3bxvsAj2CUNZVrFiRgwcPsnv3boKDgwkLC6N8+fIMGjWOPcomuZbYuBN7hHObJ2FWtQ6jf1wq1i0qBIPrTikslUrFokWLGDduHEuXLqVXr16kp6fLHUsQhOfw8fEhKSmJMWPGoNFomDf1Gy7/0p+0m5cByLx2hjuhUzCu5ECld75ldNglEu6lFXBUocQWcXiyTOykSZOYO3cu27Zto0OHDrn2qBQEwbAolUqmTZvGiGV7MatZj5xHydxe+Sk3VowkedN3qMpVoUrgJIzMrMjO0bIk6orckQ1eiS7iT3344Yds2LCBY8eO4enpyfXr1+WOJAjCC/wel0GVd6djFzQFzKzRJF1C0qixC5yEkcWTTVU0WonQkzdkTmr4SkURB/D392fnzp0kJibi4eFBbGys3JEEQXiOp0tsmDu+ieXrzQCwdO+KyrpS7nZqTZ7XCrmVmiIO0K5dO/7880/UajVvv/02hw8fljuSIAj5eLrEhlarJS12P6hMsG03KG87scRGgUpVEQdo1KgRhw4dokKFCnh5eREeHi53JEEQ/uXpEhuPj4VCTjaWbq3zTOZRKRViiY1CKHVFHKB27docPHgQV1dXfH19CQ0NlTuSIAjPeLrExqOjWwAFtm3fz9PG2EjJIM9axR+uhCmwiGu1WsaPH09gYCB9+/YlISH3uiV//vknAQEB+Pv78+233+r2rJRblSpV2LdvH23btuXrr7/m+++/N5hsglDWOVa0ZGCtx2jTH2JWsy5Ks382HVcpFZgbGzE/2P2V9tQtawos4hEREajVajZs2MCoUaOYPn267rnU1FRmzJjBwoUL2bhxI9WrV+fBgwd6DfwyrK2tCQ8Pp3PnzowZM4bPPvsMrVZb8AsFQdC7VbMmAdB35Hd5ltjY9annc/fSFXJTSAVcnk6bNo0GDRrQpUsXADw9PYmKigIgKiqK0NBQjI2NSUxMxN/fnx49euQ5RnR0NBYWFnqIXzjp6enMnj2bVatW0aVLF6ZMmSL7VN7MzEzMzMxkzfBvhpgJDDOXyFR4+eW6ceMG3t7e1KxZk927dxtEJrn9O1N6ejqNGzcu8HUF3vpNTU3FyuqfjzpGRkZoNBpUKhUPHjzgyJEjhIWFYWFhQZ8+fWjYsCG1auXtx5Jzj8vY2FhWrlxJ3bp1GTNmDFlZWWzZsgVra2tZMxnavp+GmAkMM5fIVHj55friiy+AJxeJcmQ2xO/VvzNFR0cX6nUFdqdYWVmRlvbP1FetVqtbo6R8+fLUr1+fypUrY2lpSZMmTQx2fLZCoeDLL79k+fLlREZG0rZtW5KTk+WOJQhlTmZmJjt37qRcuXL06dNH7jglXoFF3N3dnf379wMQExODs7Oz7rm6dety6dIl7t+/j0aj4dSpU7z++uv6S1sEBgwYQFhYGOfPn6dly5bEx8fLHUkQypRvvvmGnJwchgwZIneUUqHA7hRvb28OHjxIUFAQkiQxdepUli9fjoODA15eXowaNYpBg54M0u/YsWOuIm+ounbtyp49e+jSpQseHh7s2rWLhg0byh1LEMqERYsWoVKpmDRpktxRSoUCi7hSqWTixIm5HnNyctL9vUuXLrqbniVJixYtOHDgAD4+PrRq1YqtW7fStm1buWMJQqm2evVqHj16hK+vr+yDC0qLUjnZp7Dc3Nw4fPgwNWvWpGPHjmzcuFHuSIJQqk2YMAGAX375ReYkpUeZLuIANWrUICoqiqZNmxIYGMi8efPkjiQIpVJMTAzx8fG8+eabODg4yB2n1CjzRRzA1taW33//na5du/LRRx/xzTffiNmdglDERowYAcBPP/0kc5LSRRTx/7GwsGDLli28//77TJ48mcGDB6PRiGUwBaEopKSkcODAAezt7fHy8pI7Tqki1nl8hkqlYvHixdjb2zNlyhSSk5NZv3692OdPEP6jzz77DEmS+Pzzz+WOUuqIK/F/USgUTJ48mTlz5ui2fDOk9WAEoaTRarWsX78eMzMzPv30U7njlDqiiD/HRx99xPr16zly5Aienp7cuCG2iRKEV7Fy5UoyMzMJCgrKs2a48N+J7+gLBAQEsHPnTq5du4aHhwcXLlyQO5IglDjLli1DoVDw888/yx2lVBJFvABeXl7s27ePzMxMWrZsyV9//SV3JEEoMfbs2cO9e/d4++23KV++vNxxSiVRxAvB3d1dt+Vbu3bt2LFjh9yRBKFEGDVqFCAm9+iTKOKF5OTkpNvyrXv37qxcuVLuSIJg0K5du8apU6eoUaOGWJtIj0QRfwlPt3xr06YNAwYM4IcffhCTggThOZ5O7vnoo49kTlK6iSL+kp5u+RYYGMiXX37JyJEjxZZvgvAvarWa8PBwbGxs6N69u9xxSjUx2ecVmJqasnbtWqpUqcKsWbNISkpixYoVYlU2Qfifb775Bo1GI9YMLwaiiL8ipVLJrFmzqFq1KmPHjuXu3bts3rxZ1i3fBMFQ/N///R8qlYrJkycTFxcnd5xSTXSn/AcKhYIxY8awbNky9u7dS7t27cSWb0KZt2bNGh4+fEjHjh3Fp9NiIIp4EXjvvfcICwvj3LlztGzZkitXrsgdSRBkM378eADmzp0rc5KyQRTxItK1a1ciIiK4d+8eHh4exMTEyB1JEIrd6dOniY+Pp379+jg6Osodp0wQRbwIeXh4cODAAVQqFa1bt2bfvn1yRxKEYvXxxx8DYs3w4iSKeBFzc3Pj0KFD1KhRAx8fHzZt2iR3JEEoFikpKURFRWFnZ4e3t7fcccoMUcT1oGbNmkRFRdGkSRMCAgKYP3++3JEEQe9Gjx6NJEmMHj1a7ihliijiemJra8sff/xBly5d+PDDDxk/fryY3SmUWlqtljVr1mBqaqpbL0UoHqKI65GFhQWhoaEMHDiQSZMmMWTIELHlm1Aq/fLLL2LNcJmIyT56plKpWLJkCfb29kydOpXk5GTWrVsndyxBKFLff/89CoWCmTNnyh2lzBH/ZRYDhULBlClT+OWXX/jtt9/o0KEDDx8+lDuWIBSJvXv3cvv2bVq2bImtra3cccocUcSL0ccff8y6des4cuQI/fr1E1u+CaXC0z7w2bNny5ykbBJFvJgFBgayY8cObty4IbZ8E0q869evExMTw2uvvYa7u7vcccokUcRl0L59e3799VcyMzN5++23OXLkiNyRBOGVPJ3c891338mcpOwSRVwmTycFlStXjnbt2rFz5065IwnCS1Gr1Wzfvh1ra2v69esnd5wySxRxGTk5OXHo0CFcXFzo1q0bv/76q9yRBKHQJkyYgEaj4YMPPpA7SpkmirjMnt3yrX///syYMUNMChJKhIULF2JkZMSUKVPkjlKmiSJuAGxsbAgPDycgIIAvvviCUaNGiS3fBIO2YcMGUlJS6NixI2ZmZnLHKdPEZB8DYWpqyrp166hSpQo///wzSUlJLF++XCyqLxikcePGATBnzhyZkwiiiBsQpVLJ7NmzqVq1Kl999ZVuyzcrKyu5owmCztmzZ/n777+pX78+tWrVkjtOmSe6UwyMQqFg7NixLF26lIiICNq1a8edO3fkjiUIOk+HFc6YMUPmJAIUoohrtVrGjx9PYGAgffv2JSEhId82gwYNEmuCFKGBAwcSGhrKmTNnxJZvgsF49OgRf/75J3Z2dvj4+MgdR6AQRTwiIgK1Ws2GDRsYNWoU06dPz9Nm1qxZPHr0SC8By7Lu3bsTERHB3bt38fDw4NSpU3JHEsq4UaNGIUmSWG7WgCikAsazTZs2jQYNGtClSxcAPD09iYqK0j2/a9cuYmNjUalUVKpUid69e+c5RnR0NBYWFkUcvfAyMzMN7g76y2S6fPkyQ4YMITU1lblz59KsWTPZMxUnQ8xVFjNptVoaN26MJEmcOHGi0EvOlsXv1av4d6b09HQaN25c4OsKvLGZmpqa68aakZERGo0GlUrFpUuX2L59O7/88gvz5s174XFcXV0LDKMvsbGxsp4/Py+TydXVlUaNGuHj48PgwYNZu3YtvXr1kjVTcTLEXGUx0+zZs8nKyqJv377UrVvXYHK9ipKQKTo6ulCvK/C/UisrK9LS0nRfa7VaVKontT8sLIykpCT69+9PaGgoK1asYP/+/S+bXSiEmjVrcuDAARo3boy/vz8LFiyQO5JQxjxdM3zWrFlyRxGeUeCVuLu7O5GRkXTu3JmYmBicnZ11z33xxRe6v8+ZM4dKlSrRqlUr/SQVsLW1JSIigsDAQIYPH87t27f59ttvUSgUckcTSrl9+/Zx69YtPDw8xJrhBqbAIu7t7c3BgwcJCgpCkiSmTp3K8uXLcXBwwMvLqzgyCs94uuXb4MGDmThxIrdv32bevHm6T0eCoA9izXDDVeBvvlKpZOLEibkec3JyytPu6dhRQf9UKhVLly7F3t6eadOm6bZ8M7QbNULJlXAvjcVR8YSdvMnDO7e5fuIE5SpXo3Itw+pHFsRknxJLoVAwdepUZs+eTVhYGB06dCAlJUXuWEIpEHkxmY6zolh/NJHULA339iwCwKSpPx1nRRF5MVnmhMKzRBEv4UaMGMG6dev466+/aNWqFTdv3pQ7klCCJdxLY/jqE2Rk56DRSmg1ajL+PoLCxByL+t5kZOcwfPUJEu6lFXwwoViIIl4KBAUFsWPHDq5cuYKHhwcXL16UO5JQQi2Oiic7558VNB8eXA/aHKwa/DM7MztHy5IoMYPYUIgiXkq0b9+effv2kZGRQcuWLcWWb8IrCTt5E432n/l/j45uBqB863927tFoJUJPik2+DYUo4qVI48aNOXjwoNjyTXhlaVmavA8qjVCqci+JnKbOp50gC1HES5nXX3+dgwcP4uzsTPfu3cWWb8JLsTTNPWDNpMrroM1Bk557bSRLEzGk1VCIIl4K2dvb8+eff9KqVSv69+/Pjz/+KHckoYTwa1QNlfKfyWNmjg0ASL9wQPeYSqmgR6PqxZ5NyJ8o4qWUjY0NO3bsICAggM8//1xs+SYUygeetTE2+qcsWLq1BiAz/pjuMWMjJYM8xWYQhkIU8VLs6ZZvH330ETNnzqRfv36o1Wq5YwkGzLGiJfOD3TE3NkKlVGBS+TVQGKFOikOlVGBubMT8YHccK1rKHVX4H9GxVcoplUp++eUXqlatytdff83du3fZtGmT2PJNeK62Lnbs+tSTJVFXCD15AyPriuQ8vkNgkxoMbu0kCriBEVfiZYBCoeCrr75i8eLF/PHHH2LLN6FAjhUtmeRXj7Pf+eDn7QmSRPfqGaKAGyBRxMuQQYMG5dry7erVq3JHEkqA7t27A7B+/XqZkwj5EUW8jHm65dudO3fw8PDg9OnTckcSDNw777wDwJ9//ilzEiE/ooiXQS1btuTAgQMolUo8PT3FL6fwQhYWFtjY2HD58mW5owj5EEW8jKpbty6HDh2ievXq+Pj4sGXLFrkjCQbMxcWF1NRUsSG6ARJFvAxzcHAgKiqKRo0a8c4774g+T+G52rZtC0BISIjMSYR/E0W8jKtYsSJ79uyhc+fOTJw4kW+//RZJkgp+oVCm9O7dG4Dt27fLnET4N1HEBd2Wb35+fnz33XcMHTqUnJwcuWMJBqRhw4YYGRkVegd2ofiIyT4CAMbGxkyZMoU33niD6dOnc+fOHdauXSu2fBN0qlWrJjYdMUDiSlzQUSgUTJs2jZ9//pnQ0FB8fHzElm+CTpMmTcjJyeH48eNyRxGeIYq4kMenn37K2rVrOXz4sNjyTdDp1q0bABs2bJA5ifAsUcSFfPXu3Zvw8HCx5Zug4+/vD0BkZKTMSYRniSIuPJe3tzf79u0jPT2dli1bcvToUbkjCTKysrLC2tqaS5cuyR1FeIYo4sILPd3yzcbGhrZt27Jr1y65IwkycnZ25vHjx6SmpsodRfgfUcSFAtWpU4dDhw7h7OxMt27dWLVqldyRBJm0bv1kk4iNGzfKnER4ShRxoVCebvnm6elJv379xJZvZZSY9GN4xDhxodBsbGzYuXMnffv25fPPP+f27dv88MMPJD7IYHFUPGEnb5KWpcHSVIVfo2p84FlbrD9dyjRp0gQjIyMxzNCAiCIuvJSnW77Z2dnx008/cepyAol1+6NBiUb7ZLp+apaG9UcT2Rx9g/nB7rR1sZM5tVCUqlatyo0bN+SOIfyP6E4RXpqRkRFz5sxh9FfjifhtEwnrv0WdmZ6rjUYrkZGdw/DVJ0i4lyZTUkEf3N3dycnJISYmRu4oAqKIC69IoVBg2vQdKncaQebVkySt/5qc9Id52mXnaFkSdUWGhIK+dOnSBYB169bJnEQAUcSF/yDs5E0sGnSgco+vUCdf4frcvjw6E5GrjUYrEXpSfPQuTYKCggAx6cdQiCIuvLK0LA0AFnWaU77t+yBpebBjFo9O7MjdTq2RI56gJzY2NlhaWopZvAZCFHHhlVma/nNf3LpRZ0ABwIM/5nNv97x/2pmI++eljbOzM48ePSI9Pb3gxoJeiSIuvDK/RtVQKZ8UbqVSiZFVBVAoUZhakhqzk1urv0BJDj0aVZc5qVCUEu6loarmCoBj4HjqTdjNuLAz4ga2TAos4lqtlvHjxxMYGEjfvn1JSEjI9fyKFSvw9/fH39+fuXPn6i2oYHg+8KyNsdE/P0LGdk4gabHzn4iqQnXUN86TOH8gPd2sZUwpFKXIi8l0nBXFDVt3ANIu/6UbUtpxVhSRF5NlTlj2FFjEIyIiUKvVbNiwgVGjRjF9+nTdc4mJifz222+sX7+ekJAQDhw4wIULF/QaWDAcjhUtmR/sjrmxESqlAnOnpgBk/P0XNQcvxLJOMzSP7/F2IzcxHK0USLiXxvDVJ8jIzsHI3hkUCtS3LgNiSKmcCizi0dHReHp6Ak+2aDp79qzuOXt7e5YsWYKRkREKhQKNRoOpqan+0goGp62LHbs+9aR3Mwfs3mwDQHbiGfo0f41zh/fy1VdfkZ6eTpMmTcQ61CXc4qh4snO0wP+6zywrkJN6L1cbMaS0+BV4xyk1NRUrKyvd10ZGRmg0GlQqFcbGxtja2iJJEj/88ANubm7UqlUr3+PExsYWXeqXlJmZKev581PaMr3rYsS7LvVoPM8c1aMbvOtiRHryNYKDg7G1teWLL74gKCiIvXv38umnnxZbLn0pi5m2RCfqZuVq1ZkoLSqQk3qfrKQ4TKs4AU+uyDdHX+NdF6Niy/UqSlOmAou4lZUVaWn/fDzSarWoVP+8LCsri6+++gpLS0smTJjw3OO4urq+dLiiEhsbK+v581NaMzk7O3Pq1Clq1aql25/T1dUVLy8v3n77bRYtWsSNGzf47bffUCoLd1+9tH6vipq+M6Wlnyc97jjpFw6QEXcMSZMFKFAoc5eRDI2UK0dZ/F69in9nKuym1AX+Frm7u7N//34AYmJicHZ21j0nSRLDhw/HxcWFiRMnYmRk9LzDCGVEq1atANi8eXOuxxs2bMjVq1epXr064eHhuLq6ijWpS4CMjAy2bNlCUFAQiXP6cHfrdDITz2JZvz1Vek/D4fMwTCo75nqNGFJavAr8bnt7e3Pw4EGCgoKQJImpU6eyfPlyHBwc0Gq1HD16FLVaTVRUFAAjR46kUaNGeg8uGKaAgADmzJnDtm3b6NOnT67nKlWqxNWrV2nbti0HDhygZs2aHD9+HCcnJ5nSCvnJzMxk165dhISE8Ntvv5GWlkblypVp1K47tys2QlW9Lgpl/hdsKqVCDCktZgUWcaVSycSJE3M99uwv3ZkzZ4o+lVBieXh4oFQqn7uVm0qlIioqimHDhrFw4UJcXV3Ztm0bPj4+xZxUeFZmZia7d+/WFe7U1FQqVapEnz59CAgIoHXr1tx4mEXHWVFkZOc89zjGRkoGeeZ/X0zQDzHZRyhSSqWSKlWqkJiY+MJ2CxYsYP78+Wg0Gjp16sTMmTOLKaHwVFZWFtu2baNv377Y2dnh5+fHrl276N27N3/88Qe3bt3i//7v//Dy8kKlUuUZUvoslVKBubER84PdxRryxUwUcaHINWzYEI1GU+Cd9mHDhrF3715MTEwYNWoU/fv3L6aEZZdarSY8PJz+/ftjZ2dH9+7dCQ8PJyAggN27d3P79m0WLVpE+/btcw1geOrZIaVWpioUCrAyVdG7mQO7PvUUa8fLQNyBEIpc586d2blzJ2vXrmXSpEkvbNumTRsuXbqEu7s7v/76K+fOnePQoUOYmJgUU9rST61WExERQUhICGFhYTx8+JDy5cvTq1cvAgIC8PLywtjYuNDHc6xoySS/ekzyq6fH1EJhiStxocg9Xap0z549hWrv4ODA9evXqV+/PtHR0Tg6OnL79m19Riz1srOz2bVrFwMHDqRKlSp06dKFsLAw/Pz8CA8PJykpiWXLltGxY8eXKuCC4RFX4kKRq1SpEhYWFi81ccHMzIzTp0/j7+/Ppk2bqFWrFvv27eOtt97SY9LSJTs7m99//52QkBBCQ0O5f/8+NjY2+Pn5ERAQQPv27cWM6lJIFHFBL5ycnDhz5gyZmZm6ST+FsXHjRiZPnsw333yDh4cHS5YsoXnz5npMWrJpNBoiIyMJCQlh06ZNpKSkYG1tja+vLwEBAXTo0EEU7lJOdKcIevF0vZ2tW7e+9GvHjRtHWFgYSqWSgQMH5lp0TXhSuPfs2cOQIUOoWrUqHTp0YP369bRs2ZKwsDCSk5NZtWoV3bp1EwW8DBBFXNALf39/4NWKOICvry+nT5/G2tqaX3/9lfbt26PVaosyYomSk5NDZGQkw4YNo1q1arRv3541a9bg7e1NaGgoycnJzJgxA19f35f65COUfKI7RdCLVq1aoVAoOHLkyCsfw9XVlWvXrlGvXj327NnD66+/TkxMDDY2NkWY1HDl5OQQFRVFSEgImzdvJjk5GQsLC7p160ZAQACdOnXC3Nxc7piCzEQRF/SisJN+ClK+fHl2797NJ598wp49e6hRowaHDx+mbt26RZTUsOTk5HDw4EFdH3dSUhLm5uZ07dqVgIAAOnfujIWFhdwxBQMiulMEvXnzzTfJzs7+zxvqKpVKIiIi+Oyzz3j8+DENGzZ85W4aQ6TVajlw4AAjRoygZs2atG7dmmXLluHp6UlISAh37twhJCSEd955RxRwIQ9RxAW96dSpEwDr1q0rkuPNnDmTZcuWodVq8fPzY8qUKUVyXDlotVoOHTrEp59+Ss2aNfH09GTx4sW0aNGC9evXk5yczMaNG/H398fSUkxjF55PFHFBb3r37g082eKvqLz33nscOHAAMzMzxo0bp7uBWhJotVoOHz7MyJEjcXR0pGXLlixcuJBmzZqxdu1akpOT2bx5M4GBgbk2YhGEFxF94oLe2NnZYW5uzvnz54v0uC1atODKlSs0bNiQTZs20aBBA44ePWqQozIkSeLo0aOEhISwceNGEhMTMTExoVOnTnz//fd07dq1zNyoFfRDFHFBr5ycnDh79ixqtbpI10Oxt7fn2rVreHh4EB0dTY0aNThx4gQODg5Fdo5XJUkSx48f1xXuhIQEjI2N6dixI1OnTqVbt26UK1dO7phCKSG6UwS9evvttwH47bffivzYJiYmHD9+nH79+nHv3j2cnZ3Zt29fkZ+nMJ4W7i+//JLatWvTrFkzZs+eTb169Vi5ciXJycn89ttvBAcHiwIuFClRxAW9etpnHRoaqrdzrFy5kh9//BG1Wk27du2YP3++3s71LEmSOHHiBGPGjMHJyYmmTZsyc+ZMXF1dWb58OUlJSWzfvp1+/fpRvnz5YskklD2iO0XQqzZt2qBQKJ67009RGTVqFPXq1aNbt258+OGHnD59moULFxb5eSRJ4tSpU8yfP5+9e/cSFxeHSqWiffv2jBs3Dj8/P2xtbYv8vILwPKKIC3qlVCqxs7Pj2rVrej+Xj48PsbGxNGnShP/7v//j7Nmz7Nu3L9/NDV6GJEmcPn2ajRs3EhISwuXLlzEyMsLLy4uxY8fi5+dHxYoVi+hdCMLLEUVc0Ls333yT33//nbi4OL1viuzk5ERiYiLu7u4cPHiQ1157jZiYGNIU5iyOiifs5E3SsjRYmqrwa1SNDzxr57udmCRJnD17lpCQEEJCQrh06RJKpZJ27drx+eefU7duXTw8PPT6XgShMESfuKB3TzdBXrNmTbGcz8rKigsXLtClSxdu3LhBTQcH2oxZwfqjiaRmaZCA1CwN648m0nFWFJEXk3WvPXfuHBMmTMDNzY0GDRowdepUatasycKFC7l9+zZ//PEHH3zwARUqVCiW9yIIBRFFXNC7d999FyjaST8FUSqVbN++neGfjCYzI4OrS0fw8OyfudpotBIZ2Tm8/3Mon335NXXr1qVevXpMnjyZqlWrsmDBAm7dukVERARDhgyhcuXKxZZfEApLdKcIemdvb4+5uTnnzp0r9nNXaNMPuysKkrf9xN1tP6C+c5UKrfuRfS+RtAsHSL8QRfbda8xSKGjdqhXz5s2jZ8+e2NvbF3tWQXgVoogLepdwLw3LSlW5mxiP4+hQrC0tXtgfXZQ2HYxFqzLDsoE3aaf/4NFfITw6Fgo52YAC05p1qdB+CJXrt2LfzHf1mkUQ9EEUcUGvIi8mM3z1CbIqOkNiPOnxx1E4e7D+aCKbo28wP9idti52r3x8tVpNdHQ0R44c4fTp01y+fJnr169z9+5d0tPT899IQqulQvshWDh7oLJ+MqpErXjlCIIgK1HEBb1JuJfG8NUnyMjOwdzZg8cxu0i/eBhLZw80WgmNNofhq0+w61PP516Ra7VaEhISOHbsGCdPnuTChQtcvXqV5ORkHj16hEajyfMaIyMjrK2tcXJy4qbGCkX5apjYvYZpdVdUFR1QKvPeCrI0Eb8KQskkfnIFvVkcFU92zpMrYVPHhoAC9a3ca4tn52j5ZcdJ2lZIITo6mnPnzhEfH8/Nmzd58OABmZmZeY6rUCiwsLCgatWqVK9eHScnJxo0aECTJk1o3rx5rjW3x4WdYf3RRDRa6bk5VUoFPRpVL5L3LAjFTRRxQW/CTt7UFU+lUonC3BrNg1vcXjMGzeM7aDMeIWVnMlOSmPmv15qYmFC+fHnq1KlD5cqVadasGY0bN8bDw4Nq1aoVOsMHnrXZHH0DjTbnuW2MjZQM8qz1Km9REGQnirigN2lZubs6lGaW5GQ8Iuv6WVAoUZiYoSpvj8qmMgM6edCwYUPeeustGjRokKvLIzY2FldX11fK4FjRkvnB7gxffYLsHG2uK3KVUoGxkZL5we56v8EqCPoiirigN5amKlKfKeT2AxeQdS0G8xpuKE3+6fKwMlWx4DsfveVo62LHrk89WRJ1hdCTN0hTa7A0UdGjUXUGedYSBVwo0UQRF/TGr1G1XP3RKpUKVe0mudoUV3+0Y0VLJvnVY5JfPb2fSxCKk5ixKejNB561MTZ68Y+Y6I8WhP9GFHFBb572R5sbG6FS5h6IrVIqMDc2Ev3RgvAfiSIu6NXT/ujezRywMlWhUDzpA+/dzIFdn3r+p4k+giCIPnGhGIj+aEHQnwKvxLVaLePHjycwMJC+ffuSkJCQ6/mQkBB69uxJQEAAkZGRegsqCIIg5FXglXhERARqtZoNGzYQExPD9OnTWbBgAQB37txh1apVbN68maysLN59911atmxZpLuaC4IgCM9X4JV4dHQ0np6eADRs2JCzZ8/qnjt9+jSNGjXCxMQEa2trHBwcuHDhgv7SCoIgCLkUeCWempqKlZWV7msjIyM0Gg0qlYrU1FSsra11z1laWpKamprvcaKjo4sg7quT+/z5EZkKzxBziUyFZ4i5SkumAou4lZUVaWlpuq+1Wq1u49l/P5eWlparqD/VuHHjlw4mCIIgFKzA7hR3d3f2798PQExMDM7OzrrnGjRoQHR0NFlZWTx+/Ji4uLhczwuCIAj6pZAk6flrdPLkyvvbb7/l0qVLSJLE1KlT2b9/Pw4ODnh5eRESEsKGDRuQJIkhQ4boNsUVBEEQ9K/AIi4IgiAYrlIz2efpJ4aLFy9iYmLC5MmTcXR01D2/YsUKwsPDAWjdujUfffSRQeRas2YNW7ZsQaFQMHDgQDp37ix7pqdtBg8ejJeXF71795Y90+TJkzlx4gSWlk+m6M+fPz/f+y/FmenPP/9k3rx5SJJE3bp1mTBhAgqF/vd5e1Gu2NhYpk6dqmsbExPDvHnzaNWqlWyZAJYtW8b27dtRKBQMHToUb29vveYpTKZFixYRHh6OlZUVgwYNom3btnrP9NSpU6f48ccfWbVqVa7H9+7dy7x581CpVPTq1YuAgICCDyaVErt375a+/PJLSZIk6eTJk9LQoUN1z127dk3q0aOHpNFoJK1WKwUGBkqxsbGy57p3757UpUsXSa1WS48fP5ZatWolabVaWTM99dNPP0n+/v7S2rVr9Z6nMJmCgoKke/fuFUuWwmR6/Pix1KVLF12mRYsWFVu+wvz7SZIk7dixQxo5cqTsmR4+fCi1bt1aysrKklJSUqQ2bdrInunChQtSt27dpMzMTCkzM1Py8/OT0tPTiyXXokWLpK5du0r+/v65Hler1VL79u2llJQUKSsrS+rZs6d0586dAo9XatZOedF4dnt7e5YsWYKRkREKhQKNRoOpqansuWxtbQkLC8PY2Ji7d+9iampaLFdyL8oEsGvXLhQKha5NcXhRpqf7bI4fP56goCA2bdoke6aTJ0/i7OzM999/z7vvvkulSpWwtbWVPddT6enpzJkzh6+//lr2TObm5lSrVo2MjAwyMjKK5We8oExxcXE0a9YMU1NTTE1NcXR05OLFi887VJFycHBgzpw5eR6Pi4vDwcGBcuXKYWJiQuPGjTl27FiBxys1Rfx549kBjI2NsbW1RZIkvv/+e9zc3KhVq3iWP31RLniyxvbq1asJDAyke/fusme6dOkS27dv55NPPimWLIXJlJ6eTnBwMDNmzGDJkiWsXbu2WCaVvSjTgwcPOHLkCKNHj2bx4sWsXLmSK1eu6D1TQbme2rRpEx07diy2/1gKylS1alW6dOlCjx496Nevn+yZXFxcOH78OKmpqTx48ICTJ0+SkZFRLLl8fHx0w7T/nbew826eVWqK+IvGswNkZWUxevRo0tLSmDBhgsHkAggODiYqKopjx47x119/yZopLCyMpKQk+vfvT2hoKCtWrNANMZUrk7m5Of369cPc3BwrKyuaN29eLEX8RZnKly9P/fr1qVy5MpaWljRp0oTY2Fi9Zyoo11Pbtm3D39+/WPIUlGn//v0kJyezZ88e9u3bR0REBKdPn5Y1k5OTE3369GHQoEFMmjSJN998kwoVKug904sUdt7Nv5WaIv6i8eySJDF8+HBcXFyYOHEiRkZGBpErPj6ejz76CEmSMDY2xsTEJNfeknJk+uKLL9i4cSOrVq2iR48eDBgwQO83xQrKdPXqVXr37k1OTg7Z2dmcOHGCunXrypqpbt26XLp0ifv376PRaDh16hSvv/663jMVlAvg8ePHqNVqqlatWix5CspUrlw5zMzMMDExwdTUFGtrax49eiRrpvv375OWlsb69ev57rvvuHXrFnXq1NF7phdxcnIiISGBlJQU1Go1x48fp1GjRgW+rtSMTvH29ubgwYMEBQXpxrMvX74cBwcHtFotR48eRa1WExUVBcDIkSML9Q3SZy4vLy/eeOMNAgMDdX3QzZo1kz2THArK5OvrS0BAAMbGxvj6+hbLL1xBmUaNGsWgQYMA6NixY7FNdCso15UrV6heXf9b3r1MpkOHDhEQEIBSqcTd3Z2WLVvKmqldu3bEx8fTq1cvjI2N+eKLL4r14u5Z27ZtIz09ncDAQMaMGcP777+PJEn06tWLKlWqFPh6MU5cEAShBCs13SmCIAhlkSjigiAIJZgo4oIgCCWYKOKCIAglmCjigiAIJZgo4oIgCCWYKOKCIAgl2P8DrlVSTvfYSgUAAAAASUVORK5CYII=",
>>>>>>> d66231454ef753818dc9213c9b5942e067266966
      "text/plain": [
       "<Figure size 432x288 with 1 Axes>"
      ]
     },
     "metadata": {},
     "output_type": "display_data"
    }
   ],
   "source": [
    "plt.scatter(X[:, 0], X[:, 1], s=100)\n",
    "\n",
    "# draw lines from each point to its two nearest neighbors\n",
    "K = 2\n",
    "\n",
    "for i in range(X.shape[0]):\n",
    "    for j in nearest_partition[i, :K+1]:\n",
    "        # plot a line from X[i] to X[j]\n",
    "        # use some zip magic to make it happen:\n",
    "        plt.plot(*zip(X[j], X[i]), color='black')"
   ]
  },
  {
   "cell_type": "markdown",
   "metadata": {},
   "source": [
    "Each point in the plot has lines drawn to its two nearest neighbors.\n",
    "At first glance, it might seem strange that some of the points have more than two lines coming out of them: this is due to the fact that if point A is one of the two nearest neighbors of point B, this does not necessarily imply that point B is one of the two nearest neighbors of point A.\n",
    "\n",
    "Although the broadcasting and row-wise sorting of this approach might seem less straightforward than writing a loop, it turns out to be a very efficient way of operating on this data in Python.\n",
    "You might be tempted to do the same type of operation by manually looping through the data and sorting each set of neighbors individually, but this would almost certainly lead to a slower algorithm than the vectorized version we used. The beauty of this approach is that it's written in a way that's agnostic to the size of the input data: we could just as easily compute the neighbors among 100 or 1,000,000 points in any number of dimensions, and the code would look the same.\n",
    "\n",
    "Finally, I'll note that when doing very large nearest neighbor searches, there are tree-based and/or approximate algorithms that can scale as $\\mathcal{O}[N\\log N]$ or better rather than the $\\mathcal{O}[N^2]$ of the brute-force algorithm. One example of this is the KD-Tree, [implemented in Scikit-Learn](http://scikit-learn.org/stable/modules/generated/sklearn.neighbors.KDTree.html)."
   ]
  }
 ],
 "metadata": {
  "anaconda-cloud": {},
  "jupytext": {
   "formats": "ipynb,md"
  },
  "kernelspec": {
   "display_name": "Python 3 (ipykernel)",
   "language": "python",
   "name": "python3"
  },
  "language_info": {
   "codemirror_mode": {
    "name": "ipython",
    "version": 3
   },
   "file_extension": ".py",
   "mimetype": "text/x-python",
   "name": "python",
   "nbconvert_exporter": "python",
   "pygments_lexer": "ipython3",
   "version": "3.9.2"
  }
 },
 "nbformat": 4,
 "nbformat_minor": 4
}
