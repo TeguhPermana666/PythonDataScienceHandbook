{
 "cells": [
  {
   "cell_type": "markdown",
   "metadata": {},
   "source": [
    "# Fancy Indexing"
   ]
  },
  {
   "cell_type": "markdown",
   "metadata": {},
   "source": [
    "The previous chapters discussed how to access and modify portions of arrays using simple indices (e.g., `arr[0]`), slices (e.g., `arr[:5]`), and Boolean masks (e.g., `arr[arr > 0]`).\n",
    "In this chapter, we'll look at another style of array indexing, known as *fancy* or *vectorized* indexing, in which we pass arrays of indices in place of single scalars.\n",
    "This allows us to very quickly access and modify complicated subsets of an array's values."
   ]
  },
  {
   "cell_type": "markdown",
   "metadata": {},
   "source": [
    "## Exploring Fancy Indexing\n",
    "\n",
    "Fancy indexing is conceptually simple: it means passing an array of indices to access multiple array elements at once.\n",
    "For example, consider the following array:"
   ]
  },
  {
   "cell_type": "code",
   "execution_count": 1,
   "metadata": {
    "collapsed": false,
    "jupyter": {
     "outputs_hidden": false
    }
   },
   "outputs": [
    {
     "name": "stdout",
     "output_type": "stream",
     "text": [
      "[90 40  9 30 80 67 39 15 33 79]\n"
     ]
    }
   ],
   "source": [
    "import numpy as np\n",
    "rng = np.random.default_rng(seed=1701)\n",
    "\n",
    "x = rng.integers(100, size=10)\n",
    "print(x)"
   ]
  },
  {
   "cell_type": "markdown",
   "metadata": {},
   "source": [
    "Suppose we want to access three different elements. We could do it like this:"
   ]
  },
  {
   "cell_type": "code",
   "execution_count": 2,
   "metadata": {
    "collapsed": false,
    "jupyter": {
     "outputs_hidden": false
    }
   },
   "outputs": [
    {
     "data": {
      "text/plain": [
       "[30, 15, 9]"
      ]
     },
     "execution_count": 2,
     "metadata": {},
     "output_type": "execute_result"
    }
   ],
   "source": [
    "[x[3], x[7], x[2]]"
   ]
  },
  {
   "cell_type": "markdown",
   "metadata": {},
   "source": [
    "Alternatively, we can pass a single list or array of indices to obtain the same result:"
   ]
  },
  {
   "cell_type": "code",
   "execution_count": 3,
   "metadata": {
    "collapsed": false,
    "jupyter": {
     "outputs_hidden": false
    }
   },
   "outputs": [
    {
     "data": {
      "text/plain": [
       "array([30, 15, 80])"
      ]
     },
     "execution_count": 3,
     "metadata": {},
     "output_type": "execute_result"
    }
   ],
   "source": [
    "ind = [3, 7, 4]\n",
    "x[ind]"
   ]
  },
  {
   "cell_type": "markdown",
   "metadata": {},
   "source": [
    "When using arrays of indices, the shape of the result reflects the shape of the *index arrays* rather than the shape of the *array being indexed*:"
   ]
  },
  {
   "cell_type": "code",
   "execution_count": 4,
   "metadata": {
    "collapsed": false,
    "jupyter": {
     "outputs_hidden": false
    }
   },
   "outputs": [
    {
     "data": {
      "text/plain": [
       "array([[30, 15],\n",
       "       [80, 67]])"
      ]
     },
     "execution_count": 4,
     "metadata": {},
     "output_type": "execute_result"
    }
   ],
   "source": [
    "ind = np.array([[3, 7],\n",
    "                [4, 5]])\n",
    "x[ind]"
   ]
  },
  {
   "cell_type": "markdown",
   "metadata": {},
   "source": [
    "Fancy indexing also works in multiple dimensions. Consider the following array:"
   ]
  },
  {
   "cell_type": "code",
   "execution_count": 5,
   "metadata": {
    "collapsed": false,
    "jupyter": {
     "outputs_hidden": false
    }
   },
   "outputs": [
    {
     "data": {
      "text/plain": [
       "array([[ 0,  1,  2,  3],\n",
       "       [ 4,  5,  6,  7],\n",
       "       [ 8,  9, 10, 11]])"
      ]
     },
     "execution_count": 5,
     "metadata": {},
     "output_type": "execute_result"
    }
   ],
   "source": [
    "X = np.arange(12).reshape((3, 4))\n",
    "X"
   ]
  },
  {
   "cell_type": "markdown",
   "metadata": {},
   "source": [
    "Like with standard indexing, the first index refers to the row, and the second to the column:"
   ]
  },
  {
   "cell_type": "code",
   "execution_count": 6,
   "metadata": {
    "collapsed": false,
    "jupyter": {
     "outputs_hidden": false
    }
   },
   "outputs": [
    {
     "data": {
      "text/plain": [
       "array([ 2,  5, 11])"
      ]
     },
     "execution_count": 6,
     "metadata": {},
     "output_type": "execute_result"
    }
   ],
   "source": [
    "row = np.array([0, 1, 2])\n",
    "col = np.array([2, 1, 3])\n",
    "X[row, col]"
   ]
  },
  {
   "cell_type": "markdown",
   "metadata": {},
   "source": [
    "Notice that the first value in the result is `X[0, 2]`, the second is `X[1, 1]`, and the third is `X[2, 3]`.\n",
    "The pairing of indices in fancy indexing follows all the broadcasting rules that were mentioned in [Computation on Arrays: Broadcasting](02.05-Computation-on-arrays-broadcasting.ipynb).\n",
    "So, for example, if we combine a column vector and a row vector within the indices, we get a two-dimensional result:"
   ]
  },
  {
   "cell_type": "code",
   "execution_count": 7,
   "metadata": {
    "collapsed": false,
    "jupyter": {
     "outputs_hidden": false
    }
   },
   "outputs": [
    {
     "data": {
      "text/plain": [
       "array([[ 2,  1,  3],\n",
       "       [ 6,  5,  7],\n",
       "       [10,  9, 11]])"
      ]
     },
     "execution_count": 7,
     "metadata": {},
     "output_type": "execute_result"
    }
   ],
   "source": [
    "X[row[:, np.newaxis], col]"
   ]
  },
  {
   "cell_type": "markdown",
   "metadata": {},
   "source": [
    "Here, each row value is matched with each column vector, exactly as we saw in broadcasting of arithmetic operations.\n",
    "For example:"
   ]
  },
  {
   "cell_type": "code",
   "execution_count": 8,
   "metadata": {
    "collapsed": false,
    "jupyter": {
     "outputs_hidden": false
    }
   },
   "outputs": [
    {
     "data": {
      "text/plain": [
       "array([[0, 0, 0],\n",
       "       [2, 1, 3],\n",
       "       [4, 2, 6]])"
      ]
     },
     "execution_count": 8,
     "metadata": {},
     "output_type": "execute_result"
    }
   ],
   "source": [
    "row[:, np.newaxis] * col"
   ]
  },
  {
   "cell_type": "markdown",
   "metadata": {},
   "source": [
    "It is always important to remember with fancy indexing that the return value reflects the *broadcasted shape of the indices*, rather than the shape of the array being indexed."
   ]
  },
  {
   "cell_type": "markdown",
   "metadata": {},
   "source": [
    "## Combined Indexing\n",
    "\n",
    "For even more powerful operations, fancy indexing can be combined with the other indexing schemes we've seen. For example, given the array `X`:"
   ]
  },
  {
   "cell_type": "code",
   "execution_count": 9,
   "metadata": {
    "collapsed": false,
    "jupyter": {
     "outputs_hidden": false
    }
   },
   "outputs": [
    {
     "name": "stdout",
     "output_type": "stream",
     "text": [
      "[[ 0  1  2  3]\n",
      " [ 4  5  6  7]\n",
      " [ 8  9 10 11]]\n"
     ]
    }
   ],
   "source": [
    "print(X)"
   ]
  },
  {
   "cell_type": "markdown",
   "metadata": {},
   "source": [
    "We can combine fancy and simple indices:"
   ]
  },
  {
   "cell_type": "code",
   "execution_count": 10,
   "metadata": {
    "collapsed": false,
    "jupyter": {
     "outputs_hidden": false
    }
   },
   "outputs": [
    {
     "data": {
      "text/plain": [
       "array([10,  8,  9])"
      ]
     },
     "execution_count": 10,
     "metadata": {},
     "output_type": "execute_result"
    }
   ],
   "source": [
    "X[2, [2, 0, 1]]"
   ]
  },
  {
   "cell_type": "markdown",
   "metadata": {},
   "source": [
    "We can also combine fancy indexing with slicing:"
   ]
  },
  {
   "cell_type": "code",
   "execution_count": 11,
   "metadata": {
    "collapsed": false,
    "jupyter": {
     "outputs_hidden": false
    }
   },
   "outputs": [
    {
     "data": {
      "text/plain": [
       "array([[ 6,  4,  5],\n",
       "       [10,  8,  9]])"
      ]
     },
     "execution_count": 11,
     "metadata": {},
     "output_type": "execute_result"
    }
   ],
   "source": [
    "X[1:, [2, 0, 1]]"
   ]
  },
  {
   "cell_type": "markdown",
   "metadata": {},
   "source": [
    "And we can combine fancy indexing with masking:"
   ]
  },
  {
   "cell_type": "code",
   "execution_count": 12,
   "metadata": {
    "collapsed": false,
    "jupyter": {
     "outputs_hidden": false
    }
   },
   "outputs": [
    {
     "data": {
      "text/plain": [
       "array([[ 0,  2],\n",
       "       [ 4,  6],\n",
       "       [ 8, 10]])"
      ]
     },
     "execution_count": 12,
     "metadata": {},
     "output_type": "execute_result"
    }
   ],
   "source": [
    "mask = np.array([True, False, True, False])\n",
    "X[row[:, np.newaxis], mask]"
   ]
  },
  {
   "cell_type": "markdown",
   "metadata": {},
   "source": [
    "All of these indexing options combined lead to a very flexible set of operations for efficiently accessing and modifying array values."
   ]
  },
  {
   "cell_type": "markdown",
   "metadata": {},
   "source": [
    "## Example: Selecting Random Points\n",
    "\n",
    "One common use of fancy indexing is the selection of subsets of rows from a matrix.\n",
    "For example, we might have an $N$ by $D$ matrix representing $N$ points in $D$ dimensions, such as the following points drawn from a two-dimensional normal distribution:"
   ]
  },
  {
   "cell_type": "code",
   "execution_count": 13,
   "metadata": {
    "collapsed": false,
    "jupyter": {
     "outputs_hidden": false
    }
   },
   "outputs": [
    {
     "data": {
      "text/plain": [
       "(100, 2)"
      ]
     },
     "execution_count": 13,
     "metadata": {},
     "output_type": "execute_result"
    }
   ],
   "source": [
    "mean = [0, 0]\n",
    "cov = [[1, 2],\n",
    "       [2, 5]]\n",
    "X = rng.multivariate_normal(mean, cov, 100)\n",
    "X.shape"
   ]
  },
  {
   "cell_type": "markdown",
   "metadata": {},
   "source": [
    "Using the plotting tools we will discuss in [Introduction to Matplotlib](04.00-Introduction-To-Matplotlib.ipynb), we can visualize these points as a scatter plot (see the following figure):"
   ]
  },
  {
   "cell_type": "code",
   "execution_count": 14,
   "metadata": {
    "collapsed": false,
    "jupyter": {
     "outputs_hidden": false
    }
   },
   "outputs": [
    {
     "data": {
<<<<<<< HEAD
<<<<<<< HEAD
      "image/png": "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",
=======
      "image/png": "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",
>>>>>>> d66231454ef753818dc9213c9b5942e067266966
=======
      "image/png": "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",
>>>>>>> d66231454ef753818dc9213c9b5942e067266966
      "text/plain": [
       "<Figure size 432x288 with 1 Axes>"
      ]
     },
     "metadata": {},
     "output_type": "display_data"
    }
   ],
   "source": [
    "%matplotlib inline\n",
    "import matplotlib.pyplot as plt\n",
    "plt.style.use('seaborn-whitegrid')\n",
    "\n",
    "plt.scatter(X[:, 0], X[:, 1]);"
   ]
  },
  {
   "cell_type": "markdown",
   "metadata": {},
   "source": [
    "Let's use fancy indexing to select 20 random points. We'll do this by first choosing 20 random indices with no repeats, and using these indices to select a portion of the original array:"
   ]
  },
  {
   "cell_type": "code",
   "execution_count": 15,
   "metadata": {
    "collapsed": false,
    "jupyter": {
     "outputs_hidden": false
    }
   },
   "outputs": [
    {
     "data": {
      "text/plain": [
       "array([82, 84, 10, 55, 14, 33,  4, 16, 34, 92, 99, 64,  8, 76, 68, 18, 59,\n",
       "       80, 87, 90])"
      ]
     },
     "execution_count": 15,
     "metadata": {},
     "output_type": "execute_result"
    }
   ],
   "source": [
    "indices = np.random.choice(X.shape[0], 20, replace=False)\n",
    "indices"
   ]
  },
  {
   "cell_type": "code",
   "execution_count": 16,
   "metadata": {
    "collapsed": false,
    "jupyter": {
     "outputs_hidden": false
    }
   },
   "outputs": [
    {
     "data": {
      "text/plain": [
       "(20, 2)"
      ]
     },
     "execution_count": 16,
     "metadata": {},
     "output_type": "execute_result"
    }
   ],
   "source": [
    "selection = X[indices]  # fancy indexing here\n",
    "selection.shape"
   ]
  },
  {
   "cell_type": "markdown",
   "metadata": {},
   "source": [
    "Now to see which points were selected, let's overplot large circles at the locations of the selected points (see the following figure):"
   ]
  },
  {
   "cell_type": "code",
   "execution_count": 17,
   "metadata": {
    "collapsed": false,
    "jupyter": {
     "outputs_hidden": false
    }
   },
   "outputs": [
    {
     "data": {
<<<<<<< HEAD
<<<<<<< HEAD
      "image/png": "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",
=======
      "image/png": "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",
>>>>>>> d66231454ef753818dc9213c9b5942e067266966
=======
      "image/png": "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",
>>>>>>> d66231454ef753818dc9213c9b5942e067266966
      "text/plain": [
       "<Figure size 432x288 with 1 Axes>"
      ]
     },
     "metadata": {},
     "output_type": "display_data"
    }
   ],
   "source": [
    "plt.scatter(X[:, 0], X[:, 1], alpha=0.3)\n",
    "plt.scatter(selection[:, 0], selection[:, 1],\n",
    "            facecolor='none', edgecolor='black', s=200);"
   ]
  },
  {
   "cell_type": "markdown",
   "metadata": {},
   "source": [
    "This sort of strategy is often used to quickly partition datasets, as is often needed in train/test splitting for validation of statistical models (see [Hyperparameters and Model Validation](05.03-Hyperparameters-and-Model-Validation.ipynb)), and in sampling approaches to answering statistical questions."
   ]
  },
  {
   "cell_type": "markdown",
   "metadata": {},
   "source": [
    "## Modifying Values with Fancy Indexing\n",
    "\n",
    "Just as fancy indexing can be used to access parts of an array, it can also be used to modify parts of an array.\n",
    "For example, imagine we have an array of indices and we'd like to set the corresponding items in an array to some value:"
   ]
  },
  {
   "cell_type": "code",
   "execution_count": 18,
   "metadata": {
    "collapsed": false,
    "jupyter": {
     "outputs_hidden": false
    }
   },
   "outputs": [
    {
     "name": "stdout",
     "output_type": "stream",
     "text": [
      "[ 0 99 99  3 99  5  6  7 99  9]\n"
     ]
    }
   ],
   "source": [
    "x = np.arange(10)\n",
    "i = np.array([2, 1, 8, 4])\n",
    "x[i] = 99\n",
    "print(x)"
   ]
  },
  {
   "cell_type": "markdown",
   "metadata": {},
   "source": [
    "We can use any assignment-type operator for this. For example:"
   ]
  },
  {
   "cell_type": "code",
   "execution_count": 19,
   "metadata": {
    "collapsed": false,
    "jupyter": {
     "outputs_hidden": false
    }
   },
   "outputs": [
    {
     "name": "stdout",
     "output_type": "stream",
     "text": [
      "[ 0 89 89  3 89  5  6  7 89  9]\n"
     ]
    }
   ],
   "source": [
    "x[i] -= 10\n",
    "print(x)"
   ]
  },
  {
   "cell_type": "markdown",
   "metadata": {},
   "source": [
    "Notice, though, that repeated indices with these operations can cause some potentially unexpected results. Consider the following:"
   ]
  },
  {
   "cell_type": "code",
   "execution_count": 20,
   "metadata": {
    "collapsed": false,
    "jupyter": {
     "outputs_hidden": false
    }
   },
   "outputs": [
    {
     "name": "stdout",
     "output_type": "stream",
     "text": [
      "[6. 0. 0. 0. 0. 0. 0. 0. 0. 0.]\n"
     ]
    }
   ],
   "source": [
    "x = np.zeros(10)\n",
    "x[[0, 0]] = [4, 6]\n",
    "print(x)"
   ]
  },
  {
   "cell_type": "markdown",
   "metadata": {},
   "source": [
    "Where did the 4 go? This operation first assigns `x[0] = 4`, followed by `x[0] = 6`.\n",
    "The result, of course, is that `x[0]` contains the value 6.\n",
    "\n",
    "Fair enough, but consider this operation:"
   ]
  },
  {
   "cell_type": "code",
   "execution_count": 21,
   "metadata": {
    "collapsed": false,
    "jupyter": {
     "outputs_hidden": false
    }
   },
   "outputs": [
    {
     "data": {
      "text/plain": [
       "array([6., 0., 1., 1., 1., 0., 0., 0., 0., 0.])"
      ]
     },
     "execution_count": 21,
     "metadata": {},
     "output_type": "execute_result"
    }
   ],
   "source": [
    "i = [2, 3, 3, 4, 4, 4]\n",
    "x[i] += 1\n",
    "x"
   ]
  },
  {
   "cell_type": "markdown",
   "metadata": {},
   "source": [
    "You might expect that `x[3]` would contain the value 2 and `x[4]` would contain the value 3, as this is how many times each index is repeated. Why is this not the case?\n",
    "Conceptually, this is because `x[i] += 1` is meant as a shorthand of `x[i] = x[i] + 1`. `x[i] + 1` is evaluated, and then the result is assigned to the indices in `x`.\n",
    "With this in mind, it is not the augmentation that happens multiple times, but the assignment, which leads to the rather nonintuitive results.\n",
    "\n",
    "So what if you want the other behavior where the operation is repeated? For this, you can use the `at` method of ufuncs and do the following:"
   ]
  },
  {
   "cell_type": "code",
   "execution_count": 22,
   "metadata": {
    "collapsed": false,
    "jupyter": {
     "outputs_hidden": false
    }
   },
   "outputs": [
    {
     "name": "stdout",
     "output_type": "stream",
     "text": [
      "[0. 0. 1. 2. 3. 0. 0. 0. 0. 0.]\n"
     ]
    }
   ],
   "source": [
    "x = np.zeros(10)\n",
    "np.add.at(x, i, 1)\n",
    "print(x)"
   ]
  },
  {
   "attachments": {},
   "cell_type": "markdown",
   "metadata": {},
   "source": [
    "The `at` method does an in-place application of the given operator at the specified indices (here, `i`) with the specified value (here, 1).\n",
    "Another method that is similar in spirit is the `reduceat` method of ufuncs, which you can read about in the [NumPy documentation](https://numpy.org/doc/stable/reference/ufuncs.html)."
   ]
  },
  {
   "cell_type": "markdown",
   "metadata": {},
   "source": [
    "## Example: Binning Data\n",
    "\n",
    "You could use these ideas to efficiently do custom binned computations on data.\n",
    "For example, imagine we have 100 values and would like to quickly find where they fall within an array of bins.\n",
    "We could compute this using `ufunc.at` like this:"
   ]
  },
  {
   "cell_type": "code",
   "execution_count": 23,
   "metadata": {
    "collapsed": false,
    "jupyter": {
     "outputs_hidden": false
    }
   },
   "outputs": [],
   "source": [
    "rng = np.random.default_rng(seed=1701)\n",
    "x = rng.normal(size=100)\n",
    "\n",
    "# compute a histogram by hand\n",
    "bins = np.linspace(-5, 5, 20)\n",
    "counts = np.zeros_like(bins)\n",
    "\n",
    "# find the appropriate bin for each x\n",
    "i = np.searchsorted(bins, x)\n",
    "\n",
    "# add 1 to each of these bins\n",
    "np.add.at(counts, i, 1)"
   ]
  },
  {
   "cell_type": "markdown",
   "metadata": {},
   "source": [
    "The counts now reflect the number of points within each bin—in other words, a histogram (see the following figure):"
   ]
  },
  {
   "cell_type": "code",
   "execution_count": 24,
   "metadata": {
    "collapsed": false,
    "jupyter": {
     "outputs_hidden": false
    }
   },
   "outputs": [
    {
     "data": {
<<<<<<< HEAD
<<<<<<< HEAD
      "image/png": "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",
=======
      "image/png": "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",
>>>>>>> d66231454ef753818dc9213c9b5942e067266966
=======
      "image/png": "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",
>>>>>>> d66231454ef753818dc9213c9b5942e067266966
      "text/plain": [
       "<Figure size 432x288 with 1 Axes>"
      ]
     },
     "metadata": {},
     "output_type": "display_data"
    }
   ],
   "source": [
    "# plot the results\n",
    "plt.plot(bins, counts, drawstyle='steps');"
   ]
  },
  {
   "cell_type": "markdown",
   "metadata": {},
   "source": [
    "Of course, it would be inconvenient to have to do this each time you want to plot a histogram.\n",
    "This is why Matplotlib provides the `plt.hist` routine, which does the same in a single line:\n",
    "\n",
    "```python\n",
    "plt.hist(x, bins, histtype='step');\n",
    "```\n",
    "\n",
    "This function will create a nearly identical plot to the one just shown.\n",
    "To compute the binning, Matplotlib uses the `np.histogram` function, which does a very similar computation to what we did before. Let's compare the two here:"
   ]
  },
  {
   "cell_type": "code",
   "execution_count": 25,
   "metadata": {
    "collapsed": false,
    "jupyter": {
     "outputs_hidden": false
    }
   },
   "outputs": [
    {
     "name": "stdout",
     "output_type": "stream",
     "text": [
      "NumPy histogram (100 points):\n",
      "33.8 µs ± 311 ns per loop (mean ± std. dev. of 7 runs, 10000 loops each)\n",
      "Custom histogram (100 points):\n",
      "17.6 µs ± 113 ns per loop (mean ± std. dev. of 7 runs, 100000 loops each)\n"
     ]
    }
   ],
   "source": [
    "print(f\"NumPy histogram ({len(x)} points):\")\n",
    "%timeit counts, edges = np.histogram(x, bins)\n",
    "\n",
    "print(f\"Custom histogram ({len(x)} points):\")\n",
    "%timeit np.add.at(counts, np.searchsorted(bins, x), 1)"
   ]
  },
  {
   "cell_type": "markdown",
   "metadata": {},
   "source": [
    "Our own one-line algorithm is twice as fast as the optimized algorithm in NumPy! How can this be? If you dig into the `np.histogram` source code (you can do this in IPython by typing `np.histogram??`), you'll see that it's quite a bit more involved than the simple search-and-count that we've done; this is because NumPy's algorithm is more flexible, and particularly is designed for better performance when the number of data points becomes large:"
   ]
  },
  {
   "cell_type": "code",
   "execution_count": 26,
   "metadata": {
    "collapsed": false,
    "jupyter": {
     "outputs_hidden": false
    }
   },
   "outputs": [
    {
     "name": "stdout",
     "output_type": "stream",
     "text": [
      "NumPy histogram (1000000 points):\n",
      "84.4 ms ± 2.82 ms per loop (mean ± std. dev. of 7 runs, 10 loops each)\n",
      "Custom histogram (1000000 points):\n",
      "128 ms ± 2.04 ms per loop (mean ± std. dev. of 7 runs, 10 loops each)\n"
     ]
    }
   ],
   "source": [
    "x = rng.normal(size=1000000)\n",
    "print(f\"NumPy histogram ({len(x)} points):\")\n",
    "%timeit counts, edges = np.histogram(x, bins)\n",
    "\n",
    "print(f\"Custom histogram ({len(x)} points):\")\n",
    "%timeit np.add.at(counts, np.searchsorted(bins, x), 1)"
   ]
  },
  {
   "cell_type": "markdown",
   "metadata": {},
   "source": [
    "What this comparison shows is that algorithmic efficiency is almost never a simple question. An algorithm efficient for large datasets will not always be the best choice for small datasets, and vice versa (see [Big-O Notation](02.08-Sorting.ipynb#Big-O-Notation)).\n",
    "But the advantage of coding this algorithm yourself is that with an understanding of these basic methods, the sky is the limit: you're no longer constrained to built-in routines, but can create your own approaches to exploring the data.\n",
    "Key to efficiently using Python in data-intensive applications is not only knowing about general convenience routines like `np.histogram` and when they're appropriate, but also knowing how to make use of lower-level functionality when you need more pointed behavior."
   ]
  }
 ],
 "metadata": {
  "anaconda-cloud": {},
  "jupytext": {
   "formats": "ipynb,md"
  },
  "kernelspec": {
   "display_name": "Python 3 (ipykernel)",
   "language": "python",
   "name": "python3"
  },
  "language_info": {
   "codemirror_mode": {
    "name": "ipython",
    "version": 3
   },
   "file_extension": ".py",
   "mimetype": "text/x-python",
   "name": "python",
   "nbconvert_exporter": "python",
   "pygments_lexer": "ipython3",
   "version": "3.9.2"
  }
 },
 "nbformat": 4,
 "nbformat_minor": 4
}
